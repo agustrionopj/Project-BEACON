{
 "cells": [
  {
   "cell_type": "markdown",
   "id": "be459e89",
   "metadata": {},
   "source": [
    "## A. Aproksimasi fungsi Fresnel dengan deret MacLaurin"
   ]
  },
  {
   "cell_type": "markdown",
   "id": "bbf00afa",
   "metadata": {},
   "source": [
    "Fungsi Fresnel memiliki komponen `sin` dan `cos` yang bisa dituliskan sebagai berikut:"
   ]
  },
  {
   "cell_type": "markdown",
   "id": "52fcfe4e",
   "metadata": {},
   "source": [
    "$$\n",
    "C(x) = \\int_0^x \\cos (t^2) dt\n",
    "$$\n",
    "\n",
    "$$\n",
    "S(x) = \\int_0^x \\sin (t^2) dt\n",
    "$$"
   ]
  },
  {
   "cell_type": "markdown",
   "id": "63896350",
   "metadata": {},
   "source": [
    "#### Aproksimasi C(x)"
   ]
  },
  {
   "cell_type": "markdown",
   "id": "063d0f14",
   "metadata": {},
   "source": [
    "Fungsi $C(x)$ bisa didekati dengan deret MacLaurin:"
   ]
  },
  {
   "cell_type": "markdown",
   "id": "c4ee29e3",
   "metadata": {},
   "source": [
    "$$\n",
    "\\cos (t^2) = 1 - \\frac{(t^2)^2}{2!} + \\frac{(t^2)^4}{4!} - \\frac{(t^2)^6}{6!} + \\cdots\n",
    "$$"
   ]
  },
  {
   "cell_type": "markdown",
   "id": "cad836e1",
   "metadata": {},
   "source": [
    "atau dalam bentuk yang lebih umum:"
   ]
  },
  {
   "cell_type": "markdown",
   "id": "efa1e994",
   "metadata": {},
   "source": [
    "$$\n",
    "\\cos (t^2) = \\sum_{n=0}^{\\infty} (-1)^n \\frac{t^{4n}}{(2n)!}\n",
    "$$"
   ]
  },
  {
   "cell_type": "markdown",
   "id": "9844f58c",
   "metadata": {},
   "source": [
    "Maka:\n",
    "$$\n",
    "C(x) = \\sum_{n=0}^{\\infty}(-1)^n \\frac{x^{4n+1}}{(2n)!(4n+1)}\n",
    "$$"
   ]
  },
  {
   "cell_type": "markdown",
   "id": "d61e86e6",
   "metadata": {},
   "source": [
    "#### Aproksimasi S(x)"
   ]
  },
  {
   "cell_type": "markdown",
   "id": "069bd6d5",
   "metadata": {},
   "source": [
    "Fungsi $S(x)$ bisa didekati dengan deret MacLaurin:"
   ]
  },
  {
   "cell_type": "markdown",
   "id": "98fa0284",
   "metadata": {},
   "source": [
    "$$\n",
    "\\sin (t^2) = t^2 - \\frac{(t^2)^3}{3!} + \\frac{(t^2)^5}{5!} - \\frac{(t^2)^7}{7!} + \\cdots\n",
    "$$"
   ]
  },
  {
   "cell_type": "markdown",
   "id": "c76cb4ca",
   "metadata": {},
   "source": [
    "atau dalam bentuk yang lebih umum:"
   ]
  },
  {
   "cell_type": "markdown",
   "id": "8633c25f",
   "metadata": {},
   "source": [
    "$$\n",
    "\\sin (t^2) = \\sum_{n=0}^{\\infty} (-1)^n \\frac{t^{4n+2}}{(2n+1)!}\n",
    "$$"
   ]
  },
  {
   "cell_type": "markdown",
   "id": "a8fc4379",
   "metadata": {},
   "source": [
    "Maka:\n",
    "$$\n",
    "S(x) = \\sum_{n=0}^{\\infty}(-1)^n \\frac{x^{4n+3}}{(2n+1)!(4n+3)}\n",
    "$$"
   ]
  },
  {
   "cell_type": "markdown",
   "id": "f9850226",
   "metadata": {},
   "source": [
    "## B. Fresnel untuk kasus *semi-infinite edge*"
   ]
  },
  {
   "cell_type": "code",
   "execution_count": null,
   "id": "1f2cbfaf",
   "metadata": {},
   "outputs": [],
   "source": []
  }
 ],
 "metadata": {
  "kernelspec": {
   "display_name": "Python 3",
   "language": "python",
   "name": "python3"
  },
  "language_info": {
   "codemirror_mode": {
    "name": "ipython",
    "version": 3
   },
   "file_extension": ".py",
   "mimetype": "text/x-python",
   "name": "python",
   "nbconvert_exporter": "python",
   "pygments_lexer": "ipython3",
   "version": "3.7.12"
  }
 },
 "nbformat": 4,
 "nbformat_minor": 5
}
