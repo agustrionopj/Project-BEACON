{
 "cells": [
  {
   "cell_type": "markdown",
   "id": "3233efde-9e46-44c9-bd04-64af6655b2dd",
   "metadata": {},
   "source": [
    "# Data SAO 158379"
   ]
  },
  {
   "cell_type": "code",
   "execution_count": null,
   "id": "f16900a8-9d1d-4084-8e1b-f18410cccf7e",
   "metadata": {},
   "outputs": [],
   "source": [
    "%matplotlib inline\n",
    "%config InlineBackend.figure_format = 'retina'\n",
    "\n",
    "import pandas as pd\n",
    "import matplotlib.pyplot as plt\n",
    "import numpy as np\n",
    "from astropy.time import Time\n",
    "\n",
    "import scipy.special as sc\n",
    "from scipy.interpolate import interp1d\n",
    "from astropy import units as u\n",
    "from skyfield.api import load\n",
    "import pymc as pm\n",
    "import arviz as az\n",
    "\n",
    "import aesara\n",
    "import aesara.tensor as at\n",
    "from aesara.compile.ops import as_op\n",
    "az.style.use(\"arviz-darkgrid\")\n",
    "# plt.style.use(['science', 'notebook', 'grid'])\n",
    "pd.set_option('display.float_format',  '{:}'.format)"
   ]
  },
  {
   "cell_type": "code",
   "execution_count": null,
   "id": "a361b622-da08-43de-bf85-89ebf6957933",
   "metadata": {},
   "outputs": [],
   "source": [
    "df = pd.read_csv(\"sao-158379.csv\", sep=',')\n",
    "df.head()"
   ]
  },
  {
   "cell_type": "code",
   "execution_count": null,
   "id": "161d8928-12d1-46cc-a415-281be9cf5137",
   "metadata": {},
   "outputs": [],
   "source": [
    "# hilangkan karakter [ dan ] dari data\n",
    "df['timeInfo'] = df['timeInfo'].map((lambda x: x.lstrip('[').rstrip(']')))\n",
    "\n",
    "# ubah ke format waktu dan ambil tanggal dan jamnya\n",
    "df['timeInfo'] = pd.to_datetime(df['timeInfo'])\n",
    "\n",
    "df.head()"
   ]
  },
  {
   "cell_type": "code",
   "execution_count": null,
   "id": "8f7ba692-2885-4f5a-93c2-3e5c7e704f81",
   "metadata": {},
   "outputs": [],
   "source": [
    "data = df[['FrameNum','timeInfo','signal-target']]\n",
    "data.columns = ['Frame','Time', 'Value']\n",
    "data.head()"
   ]
  },
  {
   "cell_type": "code",
   "execution_count": null,
   "id": "d70ae9a4-77a5-4e4c-b7f4-f28b85c67eb4",
   "metadata": {},
   "outputs": [],
   "source": [
    "data['JD'] = Time(data['Time']).jd\n",
    "\n",
    "data['frac_JD'] = data['JD'] - np.floor(data['JD']).astype(int)\n",
    "data"
   ]
  },
  {
   "cell_type": "code",
   "execution_count": null,
   "id": "b916d0f3-f449-40e4-9c9d-cf1b297ba53f",
   "metadata": {},
   "outputs": [],
   "source": [
    "# import matplotlib.dates as mdates\n",
    "\n",
    "# fig, ax = plt.subplots(figsize=(15,5))\n",
    "# ax.plot(data['Time'], data['Value'], 'ro', alpha=0.5)\n",
    "# #ax.plot(data['Frame'], data['Value'], 'ro', alpha=0.35)\n",
    "# # ax.set_xlabel('UTC (mm:ss.ssssss)')\n",
    "# #ax.set_xlim(3300, 3700)\n",
    "# ax.set_xlabel('Frames')\n",
    "\n",
    "# date_form = mdates.DateFormatter(\"%H:%M:%S\")#, tz=pytz.timezone(‘Australia/Sydney’))\n",
    "# #ax.yaxis.set_major_locator(ticker.MaxNLocator(integer=True))\n",
    "# #ax.xaxis.set_major_locator(mdates.HourLocator(byhour=None, interval=2))\n",
    "# ax.xaxis.set_major_formatter(date_form)\n",
    "# #ax.tick_params(‘x’, labelrotation=45)\n",
    "\n",
    "# # data['Time'].dt.hour()"
   ]
  },
  {
   "cell_type": "code",
   "execution_count": null,
   "id": "97bc5d4b-6213-48d7-b579-b6772020f47b",
   "metadata": {},
   "outputs": [],
   "source": [
    "fig, ax = plt.subplots(figsize=(12,5))\n",
    "# ax.plot(data['Time'], data['Value'], 'ro', alpha=0.5)\n",
    "ax.plot(data['Frame'], data['Value'], 'ro', alpha=0.35)\n",
    "# ax.set_xlabel('UTC (mm:ss.ssssss)')\n",
    "ax.set_xlim(3300, 3700)\n",
    "ax.set_xlabel('Frames')\n",
    "# fig, ax = plt.subplots(figsize=(15,5))\n",
    "# ax.plot(data['frac_JD'], data['Value'], 'ro', alpha=0.5)\n",
    "# ax.set_xlabel('Frac JD')"
   ]
  },
  {
   "cell_type": "markdown",
   "id": "283d0b78-7464-4359-b9ca-c493ff00ad6c",
   "metadata": {},
   "source": [
    "### Normalisasi Data"
   ]
  },
  {
   "cell_type": "code",
   "execution_count": null,
   "id": "b5f228d8-a3b6-4378-ac7a-968455424706",
   "metadata": {},
   "outputs": [],
   "source": [
    "value_scaled = data['Value']/(data['Value'].std()*2)"
   ]
  },
  {
   "cell_type": "code",
   "execution_count": null,
   "id": "97806b4d-7a40-4694-8c89-98fe9bff437a",
   "metadata": {},
   "outputs": [],
   "source": [
    "fig, ax = plt.subplots(figsize=(12,5))\n",
    "# ax.plot(data['frac_JD'], value_scaled, 'ro', alpha=0.35)\n",
    "ax.plot(data['Frame'], value_scaled, 'ro', alpha=0.35)\n",
    "ax.set_xlabel('Frames')"
   ]
  },
  {
   "cell_type": "markdown",
   "id": "25f210f1-4642-4021-a3e6-e3e5c358fbff",
   "metadata": {},
   "source": [
    "### Kurva Benda Hitam untuk SAO 158379"
   ]
  },
  {
   "cell_type": "markdown",
   "id": "5aaa57cb-c123-4b19-80c3-90efaf9496cb",
   "metadata": {
    "tags": []
   },
   "source": [
    "#### Cari temperatur efektif\n",
    "\n",
    "Temperatur efektif bintang bisa didekati dengan persamaan yang menghubungkan indeks warna bintang, $B - V$ dengan temperatur efektif bintang, $T_\\mathrm{eff}$. Persamaan yang digunakan dalam pekerjaan ini diadopsi dari pekerjaan **Ballesteros 2012** (https://arxiv.org/pdf/1201.1809.pdf) sebagai berikut:\n",
    "\n",
    "$$\n",
    "T_\\mathrm{eff} =  4600\\left(\\frac{1}{0.92 (B-V) + 1.7} + \\frac{1}{0.92 (B-V) + 0.62} \\right)\n",
    "$$"
   ]
  },
  {
   "cell_type": "code",
   "execution_count": null,
   "id": "8691de97-857a-4e9b-9aa9-c7a79dc08c79",
   "metadata": {},
   "outputs": [],
   "source": [
    "# Satuan t_eff adalah Kelvin\n",
    "\n",
    "def ballesteros(bv):\n",
    "    return 4600. * ((1./(0.92*bv + 1.7)) + (1./(0.92*bv + 0.62)))"
   ]
  },
  {
   "cell_type": "code",
   "execution_count": null,
   "id": "2ec1df29-30f8-4dbc-b8fa-bd77b5e70f29",
   "metadata": {},
   "outputs": [],
   "source": [
    "b = 6.95\n",
    "v = 6.85\n",
    "\n",
    "bv = b - v\n",
    "\n",
    "teff = ballesteros(bv)\n",
    "teff"
   ]
  },
  {
   "cell_type": "code",
   "execution_count": null,
   "id": "21c1f6cf-7e56-4571-99b2-57aacdba3ff5",
   "metadata": {},
   "outputs": [],
   "source": [
    "def Planck(λ, T): \n",
    "    \"\"\"\n",
    "    λ: dalam cm\n",
    "    T: dalam K\n",
    "    \"\"\"\n",
    "    a = 3.7412e-5 / ((λ * 1e-7) **5) # 1e-7 adalah konversi dari nm ke cm\n",
    "    b = np.exp(1.43879/(λ * 1e-7 * T)) - 1\n",
    "    return a/b"
   ]
  },
  {
   "cell_type": "code",
   "execution_count": null,
   "id": "5913edac-35e9-4a96-abe6-ccc2c8554c5e",
   "metadata": {},
   "outputs": [],
   "source": [
    "x_axis = np.arange(100, 2000)"
   ]
  },
  {
   "cell_type": "code",
   "execution_count": null,
   "id": "a1b152cb-5afb-4aba-9be5-1bbce1d6cf7c",
   "metadata": {},
   "outputs": [],
   "source": [
    "y_axis = Planck(x_axis, teff)"
   ]
  },
  {
   "cell_type": "code",
   "execution_count": null,
   "id": "238d712c-22ca-4169-85dc-afb4a3a58b34",
   "metadata": {},
   "outputs": [],
   "source": [
    "plt.plot(x_axis, y_axis)"
   ]
  },
  {
   "cell_type": "code",
   "execution_count": null,
   "id": "5a3ee4a4-bd43-49bc-b32e-b551d5a56876",
   "metadata": {},
   "outputs": [],
   "source": [
    "den = np.max(y_axis)\n",
    "\n",
    "y_val = y_axis/den"
   ]
  },
  {
   "cell_type": "code",
   "execution_count": null,
   "id": "34f9a43d-b4c4-481c-af68-511713d02fff",
   "metadata": {},
   "outputs": [],
   "source": [
    "plt.plot(x_axis, y_val)"
   ]
  },
  {
   "cell_type": "markdown",
   "id": "78023147-1cfe-4630-9752-d3441ace8377",
   "metadata": {},
   "source": [
    "### Kurva transmisi QHY 174M GPS *unfiltered*"
   ]
  },
  {
   "cell_type": "code",
   "execution_count": null,
   "id": "47757609-a6c7-4440-b582-c1c888a252ae",
   "metadata": {},
   "outputs": [],
   "source": [
    "df = pd.read_csv('qhy174_response.csv', delimiter=',', header='infer')\n",
    "df.head()"
   ]
  },
  {
   "cell_type": "code",
   "execution_count": null,
   "id": "fc7883e7-23f7-4a13-81a5-ea330e7325cb",
   "metadata": {},
   "outputs": [],
   "source": [
    "x = df['wavelength']\n",
    "y = df['response']\n",
    "plt.plot(x, y, 'r')"
   ]
  },
  {
   "cell_type": "code",
   "execution_count": null,
   "id": "e3f78067-5376-4211-8701-0949be4c39ed",
   "metadata": {},
   "outputs": [],
   "source": [
    "bandwidth = np.arange(330, 1100, 10) # rentang sesuai kurva transmisi\n",
    "\n",
    "bandwidth"
   ]
  },
  {
   "cell_type": "code",
   "execution_count": null,
   "id": "cbe9b28c-6fc9-4ea0-9f2b-713d8eff1014",
   "metadata": {},
   "outputs": [],
   "source": [
    "f_interp = interp1d(x, y, kind='cubic')"
   ]
  },
  {
   "cell_type": "markdown",
   "id": "b1198407-e97b-42ff-9dd9-b3a409dae793",
   "metadata": {},
   "source": [
    "### Jarak Bulan saat pengamatan"
   ]
  },
  {
   "cell_type": "markdown",
   "id": "9e82c192-3756-4534-aede-d58381e57d4c",
   "metadata": {},
   "source": [
    "Pengamatan dilakukan pada tanggal **8 Juli 2022 pukul 12:57:10.8 UT**. Ephemeris diambil dari https://ssd.jpl.nasa.gov/ftp/eph/planets/ascii/"
   ]
  },
  {
   "cell_type": "code",
   "execution_count": null,
   "id": "ea7688aa-1a79-4f0d-bb04-b300a4de4edd",
   "metadata": {},
   "outputs": [],
   "source": [
    "# load timescale dan tampilkan waktu saat ini\n",
    "ts = load.timescale()\n",
    "\n",
    "# custom waktu untuk yyyy, mm, dd, hh, mm, ss\n",
    "t = ts.utc(2022, 7, 8, 12, 57, 10.8)"
   ]
  },
  {
   "cell_type": "code",
   "execution_count": null,
   "id": "819b4f47-e58d-4405-9b3b-b32d06a6687e",
   "metadata": {},
   "outputs": [],
   "source": [
    "# Load the JPL ephemeris DE430 (covers 1549-2650) dan cari jarak Bumi-Bulan\n",
    "planets = load('de430.bsp')\n",
    "earth, moon = planets['earth'], planets['moon']"
   ]
  },
  {
   "cell_type": "code",
   "execution_count": null,
   "id": "0fcce437-db96-46c0-a7df-1ad3748e8c70",
   "metadata": {},
   "outputs": [],
   "source": [
    "# posisi Bulan dari Bumi\n",
    "astrometric = earth.at(t).observe(moon)\n",
    "ra, dec, distance = astrometric.radec()"
   ]
  },
  {
   "cell_type": "code",
   "execution_count": null,
   "id": "0c51a0ab-b619-4e0f-a016-127b60ecc48a",
   "metadata": {},
   "outputs": [],
   "source": [
    "# tampilkan koordinat Bulan dan jarak Bulan dalam km\n",
    "print(ra)\n",
    "print(dec)\n",
    "print(distance.km)"
   ]
  },
  {
   "cell_type": "code",
   "execution_count": null,
   "id": "b6f15c0d-a839-4b15-89ec-0ab681526a7f",
   "metadata": {},
   "outputs": [],
   "source": [
    "d_moon = distance.km\n",
    "d_moon"
   ]
  },
  {
   "cell_type": "markdown",
   "id": "4f8ad71a-9510-4bae-857d-0faeb3221893",
   "metadata": {},
   "source": [
    "### Inisiasi model"
   ]
  },
  {
   "cell_type": "code",
   "execution_count": null,
   "id": "f6c27bdc-367b-4f86-935d-95879f5a9d21",
   "metadata": {},
   "outputs": [],
   "source": [
    "x_data = np.array(data['Frame'])\n",
    "y_data = np.array(data['Value'])\n",
    "# y_data = np.array(value_scaled)"
   ]
  },
  {
   "cell_type": "code",
   "execution_count": null,
   "id": "9fb5e071-2658-42a2-810b-076d1a966970",
   "metadata": {},
   "outputs": [],
   "source": [
    "def fresnel_polikromatik(x, x0, d, A):\n",
    "    y0 = np.zeros(len(x))\n",
    "    for i in range (len(bandwidth)):\n",
    "        w = (x - x0) * np.sqrt(2 / (bandwidth[i] * d)) * np.sqrt(1. / 1e-6) # faktor konversi ke satuan meter\n",
    "        # model untuk disappearance\n",
    "        cc, ss = sc.fresnel(-w)\n",
    "        y = A * 0.5 * ((cc + 0.5)**2 + (ss + 0.5)**2)\n",
    "        y_new = f_interp(bandwidth[i]) * (Planck(bandwidth[i], T)/den) * y\n",
    "        # y_new = f_interp(bandwidth[i]) * y\n",
    "        y0 += y_new\n",
    "    return y0"
   ]
  },
  {
   "cell_type": "code",
   "execution_count": null,
   "id": "63511897-280e-4ed5-a81b-4b8b4796c7de",
   "metadata": {},
   "outputs": [],
   "source": [
    "# Variabel benar\n",
    "# -------------\n",
    "x0_true = 3480\n",
    "# x0_true = 0.039705\n",
    "A_true = 1.\n",
    "σ_true = 150.\n",
    "T = teff"
   ]
  },
  {
   "cell_type": "code",
   "execution_count": null,
   "id": "67b8a8de-b045-4621-9826-9329bdba5161",
   "metadata": {},
   "outputs": [],
   "source": [
    "y_syn = fresnel_polikromatik(x_data, x0_true, d_moon, A_true)\n",
    "y_syn = np.random.normal(y_syn, scale=σ_true)\n",
    "\n",
    "y_syn_scaled = y_syn / (y_syn.std()*2)"
   ]
  },
  {
   "cell_type": "code",
   "execution_count": null,
   "id": "1e171329-a8c1-420c-aa01-6937efd6b6d2",
   "metadata": {},
   "outputs": [],
   "source": [
    "plt.figure(figsize = (12,5), facecolor='w')\n",
    "plt.scatter(x_data, y_syn_scaled, marker='o', c='r', alpha=0.35)\n",
    "# plt.invert_yaxis()\n",
    "# plt.xlim(3300, 3700)\n",
    "plt.xlabel('Frames')\n",
    "plt.ylabel('Intensity')"
   ]
  },
  {
   "cell_type": "code",
   "execution_count": null,
   "id": "31c576a4-2e27-4038-a550-283c55cd486c",
   "metadata": {},
   "outputs": [],
   "source": [
    "@as_op(itypes=[at.dvector, at.dscalar, at.dscalar, at.dscalar], otypes=[at.dvector])\n",
    "def t_fresnel_polikromatik(x, x0, d, A):\n",
    "    y0 = np.zeros(len(x))\n",
    "    for i in range (len(bandwidth)):\n",
    "        w = (x - x0) * np.sqrt(2 / (bandwidth[i] * d)) * np.sqrt(1. / 1e-6) # faktor konversi ke satuan meter\n",
    "        cc, ss = sc.fresnel(-w)\n",
    "        y = A * 0.5 * ((cc + 0.5)**2 + (ss + 0.5)**2)\n",
    "        y_new = f_interp(bandwidth[i]) * (Planck(bandwidth[i], T)/den) * y\n",
    "        y0 += y_new\n",
    "    return y0"
   ]
  },
  {
   "cell_type": "code",
   "execution_count": null,
   "id": "56e9e96f-a04b-48b2-8036-d6c10fc158d7",
   "metadata": {},
   "outputs": [],
   "source": [
    "x_shared = aesara.shared(x_data)\n",
    "d_shared = aesara.shared(d_moon)\n",
    "\n",
    "with pm.Model() as model_polikromatik:\n",
    "    A = pm.Normal('A', mu=1., sigma=1.)\n",
    "    σ = pm.HalfCauchy('σ', beta=1.)\n",
    "    x0 = pm.Normal('x0', mu=3480., sigma=1.)\n",
    "    \n",
    "    μ = t_fresnel_polikromatik(x_shared, x0, d_shared, A)\n",
    "    y_pred = pm.Normal('y_pred', mu=μ, sigma=σ, observed=value_scaled)\n",
    "    \n",
    "pm.model_to_graphviz(model_polikromatik)"
   ]
  },
  {
   "cell_type": "code",
   "execution_count": null,
   "id": "9df5fc5e-9607-4a91-b7a6-e306472a0c89",
   "metadata": {},
   "outputs": [],
   "source": [
    "with model_polikromatik:\n",
    "    idata = pm.sample(cores=1)\n",
    "    pm.sample_posterior_predictive(idata, extend_inferencedata=True)"
   ]
  },
  {
   "cell_type": "code",
   "execution_count": null,
   "id": "2a3ec576-7b65-4a75-92b6-c998bbd40df4",
   "metadata": {},
   "outputs": [],
   "source": [
    "az.plot_trace(idata)"
   ]
  },
  {
   "cell_type": "code",
   "execution_count": null,
   "id": "f6264ef2-bbda-44ad-a86f-9f49ec1c1883",
   "metadata": {},
   "outputs": [],
   "source": [
    "az.summary(idata)"
   ]
  },
  {
   "cell_type": "code",
   "execution_count": null,
   "id": "6f3ffde2-3143-400f-b1f7-a4d6d1181ebd",
   "metadata": {},
   "outputs": [],
   "source": [
    "idata"
   ]
  },
  {
   "cell_type": "code",
   "execution_count": null,
   "id": "a61228f0-fd7c-4c67-953f-e372086a513c",
   "metadata": {},
   "outputs": [],
   "source": [
    "idata_pp = idata.posterior_predictive\n",
    "\n",
    "idata_pp_st = idata_pp.stack(sample=(\"chain\", \"draw\"))\n",
    "\n",
    "crit_l = np.percentile(idata_pp_st['y_pred'], 2.5, axis=1)  # 2.5% persentil \n",
    "crit_u = np.percentile(idata_pp_st['y_pred'], 97.5, axis=1)  # 97.5% persentil\n",
    "mean_spp = np.mean(idata_pp_st['y_pred'], axis=1) # Median"
   ]
  },
  {
   "cell_type": "code",
   "execution_count": null,
   "id": "c924dd97-f6eb-4bf0-b446-531d0c7660c7",
   "metadata": {},
   "outputs": [],
   "source": [
    "plt.figure(figsize=(12,5))\n",
    "plt.plot(x_data, mean_spp, linestyle='-', linewidth=1, color=\"#5500ff\")\n",
    "plt.fill_between(x_data, crit_l, crit_u, alpha=0.2, color=\"#00cc66\")\n",
    "plt.scatter(x_data, value_scaled, c='r', marker='o', alpha=0.3)\n",
    "# plt.plot(x_data, y_data, 'r-', lw=1, alpha=0.5)\n",
    "plt.xlabel('Frames')\n",
    "plt.xlim(3300, 3700)\n",
    "plt.ylabel('Intensity')\n",
    "plt.tight_layout()\n",
    "plt.legend(['Mean Posterior Prediction', '95% Posterior Prediction', 'Simulated Data'], loc='upper left')\n",
    "# plt.savefig('hasil-kurvatransmisi-planck.png', dpi=150)"
   ]
  },
  {
   "cell_type": "markdown",
   "id": "ae17b04e-aa63-4d2a-ab9c-596ace92320f",
   "metadata": {},
   "source": [
    "### *Data smoothing*"
   ]
  },
  {
   "cell_type": "code",
   "execution_count": null,
   "id": "1bcb5bb6-096e-40a0-9504-6348c3710507",
   "metadata": {},
   "outputs": [],
   "source": [
    "from scipy.signal import savgol_filter"
   ]
  },
  {
   "cell_type": "code",
   "execution_count": null,
   "id": "97360c4a-4a6b-4438-ba89-86ae2b777ad7",
   "metadata": {},
   "outputs": [],
   "source": [
    "y_filtered = savgol_filter(value_scaled, 10, 2)"
   ]
  },
  {
   "cell_type": "code",
   "execution_count": null,
   "id": "eaee55dc-afec-422a-8849-b8e3b57a37bc",
   "metadata": {},
   "outputs": [],
   "source": [
    "plt.figure(figsize=(15,5))\n",
    "plt.scatter(x_data, y_filtered, c='r', marker='o', alpha=0.3)\n",
    "plt.xlim(3300, 3700)"
   ]
  },
  {
   "cell_type": "code",
   "execution_count": null,
   "id": "c8081184-3880-4a6f-9b72-306c5d10645e",
   "metadata": {},
   "outputs": [],
   "source": [
    "with pm.Model() as model_polikromatik_smt:\n",
    "    A = pm.Normal('A', mu=1., sigma=1.)\n",
    "    σ = pm.HalfCauchy('σ', beta=1.)\n",
    "    x0 = pm.Normal('x0', mu=3480., sigma=1.)\n",
    "    \n",
    "    μ = t_fresnel_polikromatik(x_shared, x0, d_shared, A)\n",
    "    y_pred = pm.Normal('y_pred', mu=μ, sigma=σ, observed=y_filtered)\n",
    "    \n",
    "pm.model_to_graphviz(model_polikromatik_smt)"
   ]
  },
  {
   "cell_type": "code",
   "execution_count": null,
   "id": "4b4318a1-ffa5-4b36-ab9e-27735edeaaea",
   "metadata": {},
   "outputs": [],
   "source": [
    "with model_polikromatik_smt:\n",
    "    idata = pm.sample(cores=1)\n",
    "    pm.sample_posterior_predictive(idata, extend_inferencedata=True)"
   ]
  },
  {
   "cell_type": "code",
   "execution_count": null,
   "id": "dba56995-a3ed-4c3f-804b-37c71eea97f6",
   "metadata": {
    "tags": []
   },
   "outputs": [],
   "source": [
    "az.plot_trace(idata)"
   ]
  },
  {
   "cell_type": "code",
   "execution_count": null,
   "id": "31d4add2-0b13-4023-a713-9bbed1a9de4f",
   "metadata": {},
   "outputs": [],
   "source": [
    "az.summary(idata)"
   ]
  },
  {
   "cell_type": "code",
   "execution_count": null,
   "id": "49802d80-e27b-4fbf-a8ec-4ccfc4a706c1",
   "metadata": {},
   "outputs": [],
   "source": [
    "idata_pp = idata.posterior_predictive\n",
    "\n",
    "idata_pp_st = idata_pp.stack(sample=(\"chain\", \"draw\"))\n",
    "\n",
    "crit_l = np.percentile(idata_pp_st['y_pred'], 2.5, axis=1)  # 2.5% persentil \n",
    "crit_u = np.percentile(idata_pp_st['y_pred'], 97.5, axis=1)  # 97.5% persentil\n",
    "mean_spp = np.mean(idata_pp_st['y_pred'], axis=1) # Median"
   ]
  },
  {
   "cell_type": "code",
   "execution_count": null,
   "id": "3521957f-b062-44bc-839f-e2c9cc99f4f8",
   "metadata": {},
   "outputs": [],
   "source": [
    "plt.figure(figsize=(12,5))\n",
    "plt.plot(x_data, mean_spp, linestyle='-', linewidth=1, color=\"#5500ff\")\n",
    "plt.fill_between(x_data, crit_l, crit_u, alpha=0.2, color=\"#00cc66\")\n",
    "plt.scatter(x_data, y_filtered, c='r', marker='o', alpha=0.3)\n",
    "# plt.plot(x_data, y_data, 'r-', lw=1, alpha=0.5)\n",
    "plt.xlabel('Frames')\n",
    "plt.xlim(3300, 3700)\n",
    "plt.ylabel('Intensity')\n",
    "plt.tight_layout()\n",
    "plt.legend(['Mean Posterior Prediction', '95% Posterior Prediction', 'Simulated Data'], loc='upper left')\n",
    "# plt.savefig('hasil-kurvatransmisi-planck.png', dpi=150)"
   ]
  },
  {
   "cell_type": "markdown",
   "id": "a3b95ddb-fd30-4fb6-8420-547268f236f0",
   "metadata": {},
   "source": [
    "### Konversi *Frame Number* ke waktu"
   ]
  },
  {
   "cell_type": "code",
   "execution_count": null,
   "id": "fe6bab7d-389c-44ba-be86-7241d6a425ed",
   "metadata": {},
   "outputs": [],
   "source": [
    "x = data['Frame']\n",
    "y = data['JD']\n",
    "\n",
    "plt.plot(x, y)\n",
    "plt.xlabel('Frame #')\n",
    "plt.ylabel('Julian Date')"
   ]
  },
  {
   "cell_type": "code",
   "execution_count": null,
   "id": "48588513-a01d-4249-a311-0385a1469e9b",
   "metadata": {
    "tags": []
   },
   "outputs": [],
   "source": [
    "f = interp1d(x, y, kind='cubic')"
   ]
  },
  {
   "cell_type": "markdown",
   "id": "b3837621-5c0a-41b5-8a40-627b252ead84",
   "metadata": {},
   "source": [
    "#### Ambil nilai dari `arviz inference data`"
   ]
  },
  {
   "cell_type": "code",
   "execution_count": null,
   "id": "d5673221-214f-4cf2-b67d-7a0e9fda1ac0",
   "metadata": {},
   "outputs": [],
   "source": [
    "framenum = idata.posterior.mean().x0.values"
   ]
  },
  {
   "cell_type": "code",
   "execution_count": null,
   "id": "740d387d-67db-40cc-9dea-d4ca8549c652",
   "metadata": {},
   "outputs": [],
   "source": [
    "# interpolasi\n",
    "\n",
    "date = f(framenum)\n",
    "type(date)"
   ]
  },
  {
   "cell_type": "markdown",
   "id": "15488e70-6470-4411-b1c0-2ac6d3990962",
   "metadata": {},
   "source": [
    "### Ubah `ndarray` ke `str`"
   ]
  },
  {
   "cell_type": "code",
   "execution_count": null,
   "id": "bebd1f0d-ecbd-4383-b264-da5c491e9548",
   "metadata": {},
   "outputs": [],
   "source": [
    "date_str = np.array_str(date)\n",
    "date_str"
   ]
  },
  {
   "cell_type": "code",
   "execution_count": null,
   "id": "f0565bad-65e7-47db-9d44-e9ee7d846d4e",
   "metadata": {},
   "outputs": [],
   "source": [
    "# Ubah ke format waktu\n",
    "\n",
    "j_date = Time(date_str, format='jd')\n",
    "# j_date.value\n",
    "iso_time = j_date.iso\n",
    "iso_time"
   ]
  },
  {
   "cell_type": "code",
   "execution_count": null,
   "id": "a0927593-d53a-45b0-9db2-70b435c16549",
   "metadata": {},
   "outputs": [],
   "source": [
    "data.dtypes"
   ]
  },
  {
   "cell_type": "markdown",
   "id": "ead2ece5-4390-42c5-a8ee-a7522a079c56",
   "metadata": {},
   "source": [
    "### Ubah `str` ke format `timestamp`"
   ]
  },
  {
   "cell_type": "code",
   "execution_count": null,
   "id": "de8e74e1-662d-4547-9878-216196ca3d4e",
   "metadata": {},
   "outputs": [],
   "source": [
    "t_iso_time = pd.to_datetime(iso_time)\n",
    "t_iso_time.time()"
   ]
  },
  {
   "cell_type": "code",
   "execution_count": null,
   "id": "75a6d5ed-d81d-467e-9728-57c86255c929",
   "metadata": {},
   "outputs": [],
   "source": []
  },
  {
   "cell_type": "code",
   "execution_count": null,
   "id": "466f45d7-cee8-4f7b-a724-6f873c4a7f10",
   "metadata": {},
   "outputs": [],
   "source": [
    "import matplotlib.dates as mdates\n",
    "\n",
    "fig, ax = plt.subplots(figsize=(15,5))\n",
    "ax.plot(data['Time'], mean_spp, linestyle='-', linewidth=1, color=\"#5500ff\")\n",
    "ax.fill_between(data['Time'], crit_l, crit_u, alpha=0.2, color=\"#00cc66\")\n",
    "ax.plot(data['Time'], value_scaled, 'ro', alpha=0.35)\n",
    "\n",
    "plt.axvline(x = t_iso_time, color = 'k', lw=3, ls='--', label = t_iso_time.time())\n",
    "plt.legend(loc = 'upper right')\n",
    "\n",
    "#ax.plot(data['Frame'], data['Value'], 'ro', alpha=0.35)\n",
    "# ax.set_xlabel('UTC (mm:ss.ssssss)')\n",
    "ax.set_xlim(data['Time'][580], data['Time'][790]) # baris ke-# untuk kolom 'Time'\n",
    "ax.set_xlabel('Time (UTC)')\n",
    "\n",
    "date_form = mdates.DateFormatter(\"%H:%M:%S\")#, tz=pytz.timezone(‘Australia/Sydney’))\n",
    "#ax.yaxis.set_major_locator(ticker.MaxNLocator(integer=True))\n",
    "#ax.xaxis.set_major_locator(mdates.HourLocator(byhour=None, interval=2))\n",
    "ax.xaxis.set_major_formatter(date_form)\n",
    "# ax.tick_params('x', labelrotation=45)\n",
    "\n",
    "# data['Time'].dt.hour()"
   ]
  },
  {
   "cell_type": "code",
   "execution_count": null,
   "id": "8c7f5481-39b6-422b-9f60-7c64a4ffca03",
   "metadata": {},
   "outputs": [],
   "source": [
    "az.plot_ppc(idata, num_pp_samples=100, kind='cumulative')"
   ]
  },
  {
   "cell_type": "code",
   "execution_count": null,
   "id": "319e9965-d2f1-40f5-add8-b0577c384c86",
   "metadata": {},
   "outputs": [],
   "source": []
  }
 ],
 "metadata": {
  "kernelspec": {
   "display_name": "Python 3 (ipykernel)",
   "language": "python",
   "name": "python3"
  },
  "language_info": {
   "codemirror_mode": {
    "name": "ipython",
    "version": 3
   },
   "file_extension": ".py",
   "mimetype": "text/x-python",
   "name": "python",
   "nbconvert_exporter": "python",
   "pygments_lexer": "ipython3",
   "version": "3.10.5"
  }
 },
 "nbformat": 4,
 "nbformat_minor": 5
}
