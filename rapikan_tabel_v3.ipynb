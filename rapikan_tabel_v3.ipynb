{
 "cells": [
  {
   "cell_type": "markdown",
   "metadata": {},
   "source": [
    "## Merapikan tabel file output dari software perencanaan event okultasi [Nama Softwarenya?]"
   ]
  },
  {
   "cell_type": "markdown",
   "metadata": {},
   "source": [
    "### Import Modul yang dibutuhkan"
   ]
  },
  {
   "cell_type": "code",
   "execution_count": 1,
   "metadata": {},
   "outputs": [],
   "source": [
    "import pandas as pd\n",
    "import os\n",
    "import glob"
   ]
  },
  {
   "cell_type": "markdown",
   "metadata": {},
   "source": [
    "### Input user tentang file input dan baris pertama header"
   ]
  },
  {
   "cell_type": "code",
   "execution_count": 2,
   "metadata": {},
   "outputs": [],
   "source": [
    "file_input       = 'LO-Mar-May2022.txt'\n",
    "# file_input       = 'LO-Mar-May2022_dari Bre.txt'\n",
    "header_line     = 3 "
   ]
  },
  {
   "cell_type": "markdown",
   "metadata": {},
   "source": [
    "###  Buat file output.txt yang berisi tabel referensi"
   ]
  },
  {
   "cell_type": "code",
   "execution_count": 3,
   "metadata": {},
   "outputs": [],
   "source": [
    "file = open(file_input,'r')\n",
    "data_in = file.readlines()\n",
    "\n",
    "file_out = open('tabel_output.txt','w')\n",
    "file_out.write(data_in[header_line])\n",
    "file_out.write(data_in[header_line+1])\n",
    "\n",
    "\n",
    "for line in data_in[header_line:]:\n",
    "\tif line[0] != ' ':\n",
    "\t\tfile_out.write(line)\n",
    "\n",
    "file_out.close()"
   ]
  },
  {
   "cell_type": "markdown",
   "metadata": {},
   "source": [
    "###  Membuat header baru gabungan header baris 1 dan baris 2 "
   ]
  },
  {
   "cell_type": "code",
   "execution_count": 4,
   "metadata": {},
   "outputs": [],
   "source": [
    "def merger_title_n_subs(title,sub):\n",
    "    n = len(sub)\n",
    "    for a,b in zip([title]*len(sub),sub):\n",
    "        header_labels_final.append(a+'_'+b)\n",
    "\n",
    "def add_header(n1, n2):\n",
    "    if str(n1) != '0' and str(n2) != '0':\n",
    "        header_labels_final.append(header_labels1[n1]+'_'+header_labels2[n2])\n",
    "    elif str(n2) == '0':\n",
    "        header_labels_final.append(header_labels1[n1])\n",
    "    elif str(n1) == '0':\n",
    "        header_labels_final.append(header_labels2[n2])\n",
    "\n",
    "def cons_add_header(n1, n2 , loops_num):\n",
    "    for i in range(loops_num):\n",
    "        header_labels_final.append(header_labels1[n1]+'_'+header_labels2[n2])\n",
    "        n1,n2 = n1+1, n2+1\n",
    "    \n",
    "        "
   ]
  },
  {
   "cell_type": "code",
   "execution_count": 5,
   "metadata": {},
   "outputs": [
    {
     "name": "stdout",
     "output_type": "stream",
     "text": [
      "['day_y', 'day_m', 'day_d', 'Time_h', 'Time_m', 'Time_s', 'P', 'Star_No', 'Sp_D', 'Mag_v', 'Mag_r', 'V', '%_ill', 'Elon', 'Sun_Alt', 'Moon_Alt', 'Moon_Az', 'CA_o', 'PA_o', 'VA_o', 'AA_o', 'Libration_L', 'Libration_B', 'A_m/o', 'B_m/o', 'RV_\"/s', 'Cct_o', 'durn_sec', 'R.A._h', 'R.A._m', 'R.A._s', 'Dec_o', 'Dec_m', 'Dec_s', 'Mdist_Mm', 'SV_m/s']\n"
     ]
    }
   ],
   "source": [
    "header_labels1 = data_in[header_line].split()\n",
    "header_labels2 = data_in[header_line+1].split()\n",
    "header_labels_final = []\n",
    "\n",
    "merger_title_n_subs(header_labels1[0],header_labels2[:3])\n",
    "merger_title_n_subs(header_labels1[1],header_labels2[3:6] )\n",
    "add_header(2,0)\n",
    "cons_add_header(3,6,4)\n",
    "add_header(0,10)\n",
    "add_header(7,11)\n",
    "add_header(8,0)\n",
    "add_header(9,12)\n",
    "merger_title_n_subs(header_labels1[10],header_labels2[13:15])\n",
    "cons_add_header(11,15,4)\n",
    "merger_title_n_subs(header_labels1[15],header_labels2[19:21])\n",
    "cons_add_header(16,21,5)\n",
    "merger_title_n_subs(header_labels1[21],header_labels2[26:29])\n",
    "del(header_labels1[21])\n",
    "merger_title_n_subs(header_labels1[22],header_labels2[29:32])\n",
    "cons_add_header(23,32,2)\n",
    "\n",
    "print(header_labels_final)"
   ]
  },
  {
   "cell_type": "markdown",
   "metadata": {},
   "source": [
    "### Membuat dictionary dan menjadikan label kolom sebagai keys dari dictionary"
   ]
  },
  {
   "cell_type": "code",
   "execution_count": 6,
   "metadata": {},
   "outputs": [
    {
     "name": "stdout",
     "output_type": "stream",
     "text": [
      "{'day_y': [], 'day_m': [], 'day_d': [], 'Time_h': [], 'Time_m': [], 'Time_s': [], 'P': [], 'Star_No': [], 'Sp_D': [], 'Mag_v': [], 'Mag_r': [], 'V': [], '%_ill': [], 'Elon': [], 'Sun_Alt': [], 'Moon_Alt': [], 'Moon_Az': [], 'CA_o': [], 'PA_o': [], 'VA_o': [], 'AA_o': [], 'Libration_L': [], 'Libration_B': [], 'A_m/o': [], 'B_m/o': [], 'RV_\"/s': [], 'Cct_o': [], 'durn_sec': [], 'R.A._h': [], 'R.A._m': [], 'R.A._s': [], 'Dec_o': [], 'Dec_m': [], 'Dec_s': [], 'Mdist_Mm': [], 'SV_m/s': []}\n"
     ]
    }
   ],
   "source": [
    "hasil_tabel = {}\n",
    "for label in header_labels_final: hasil_tabel[label] = []\n",
    "    \n",
    "print(hasil_tabel)"
   ]
  },
  {
   "cell_type": "markdown",
   "metadata": {},
   "source": [
    "### Memisahkan baris data dan baris catatan khusus"
   ]
  },
  {
   "cell_type": "code",
   "execution_count": 7,
   "metadata": {},
   "outputs": [
    {
     "name": "stdout",
     "output_type": "stream",
     "text": [
      "22 Mar  5 11 48 46.2 D  109722SG5  8.9  8.6    8+  34 -11 19 278  84S  78 339  99 +4.7 +3.4 +0.8+0.7 .439  -16.7      1 11 53.7   4 52 43 385.5 856.1\n",
      "\n",
      "22 Mar  5 11 57 52.6 d  109724 F8  9.6  9.4    8+  34     17 277  85S  77 338  98 +4.7 +3.4 +0.7+0.7 .449  -15.0      1 12  8.0   4 54 58 385.8 870.6\n",
      "\n",
      "22 Mar  5 12 56 58.9 d  109743 F8  7.7  7.4    9+  34      3 276  87S  74 337  95 +4.6 +3.4 +0.2+0.7 .510   -9.2      1 13 51.6   5  8 31 387.6 970.1\n",
      "\n",
      "22 Mar  6 12 51 49.8 D     293 G5  7.6  7.1   15+  46     14 283  78S  83 343 102 +4.2 +2.1 +0.6+0.5 .432  -16.1      2  0 22.7  10 37 48 391.1 853.3\n",
      "\n",
      "22 Mar  6 13 24 50.3 d   92752 K0  8.8  8.2   15+  46      6 282  74N  55 317  74 +4.2 +2.1 +0.4+1.4 .466   13.3      2  1  9.9  10 50 23 392.1 910.5\n",
      "\n"
     ]
    }
   ],
   "source": [
    "data_lines = []\n",
    "\n",
    "for line in data_in[header_line:]:\n",
    "\tif line[0] != ' ':\n",
    "\t\tdata_lines.append(line)\n",
    "\n",
    "for i in range(5):\n",
    "    print(data_lines[i])"
   ]
  },
  {
   "cell_type": "markdown",
   "metadata": {},
   "source": [
    "### Mengisi kolom tabel data dengan tabel file input, dengan memisahkan baris note ke kolom baru"
   ]
  },
  {
   "cell_type": "markdown",
   "metadata": {},
   "source": [
    "<p>Setiap kolom pada Tabel file output memiliki 'jatah' lebar dalam satuan banyaknya karakter. <br>\n",
    "Contohnya: kolom 1 ('day_y') memiliki lebar 2 karakter.<br>\n",
    "lebar karakter ini yang ditentukan secara manual dan disimpan dalam bentuk list dalam var 'col_space'.</p>"
   ]
  },
  {
   "cell_type": "code",
   "execution_count": 8,
   "metadata": {},
   "outputs": [],
   "source": [
    "hasil_tabel = {}\n",
    "for label in header_labels_final: hasil_tabel[label] = []\n",
    "\n",
    "col_space = [3,4,3,3,3,4,3,7,4,5,4,3,3,4,4,3,4,5,4,4,4,\\\n",
    "            5,5,5,5,5,6,4,3,3,5,4,3,3,6,6]\n",
    "\n",
    "\n",
    "nama_label = {}\n",
    "for a,b in zip(header_labels_final[:len(col_space)],col_space):\n",
    "    nama_label[a] = b\n",
    "\n",
    "NOTES  = []\n",
    "i_note = 0\n",
    "is_data_line =False\n",
    "\n",
    "for line in data_in[header_line+2:]:\n",
    "    \n",
    "    if line[0] != ' ':\n",
    "        start = 0\n",
    "        n = 0\n",
    "        #print(i_note,line[0], 'data!',line)\n",
    "        for ind in col_space: \n",
    "            hasil_tabel[header_labels_final[n]].append(line[start:start+ind])\n",
    "            start = start + ind\n",
    "            n = n + 1\n",
    "        \n",
    "        if is_data_line == True:\n",
    "            NOTES.append(' ')\n",
    "        if is_data_line == False:\n",
    "            pass\n",
    "            \n",
    "        i_note = i_note + 1\n",
    "        is_data_line = True\n",
    "            \n",
    "    else:\n",
    "        #print(i_note,line[0],'notes!',line)\n",
    "        if is_data_line == True:\n",
    "            NOTES.append(line[:-1])\n",
    "        elif is_data_line == False:\n",
    "            NOTES[-1] = NOTES[-1] +' ; ' + line[:-1]\n",
    "        is_data_line = False\n",
    "\n",
    "hasil_tabel['NOTES'] = NOTES\n"
   ]
  },
  {
   "cell_type": "code",
   "execution_count": 9,
   "metadata": {},
   "outputs": [
    {
     "name": "stdout",
     "output_type": "stream",
     "text": [
      "165\n",
      "165\n"
     ]
    }
   ],
   "source": [
    "print(len(NOTES))\n",
    "print(len(hasil_tabel['day_d']))"
   ]
  },
  {
   "cell_type": "markdown",
   "metadata": {},
   "source": [
    "### Ubah dictionary ke dataframe pandas"
   ]
  },
  {
   "cell_type": "code",
   "execution_count": 10,
   "metadata": {},
   "outputs": [],
   "source": [
    "# hasil_tabel"
   ]
  },
  {
   "cell_type": "code",
   "execution_count": 11,
   "metadata": {},
   "outputs": [],
   "source": [
    "hasil_tabel = pd.DataFrame(hasil_tabel)"
   ]
  },
  {
   "cell_type": "code",
   "execution_count": 12,
   "metadata": {
    "scrolled": true
   },
   "outputs": [
    {
     "data": {
      "text/plain": [
       "Index(['day_y', 'day_m', 'day_d', 'Time_h', 'Time_m', 'Time_s', 'P', 'Star_No',\n",
       "       'Sp_D', 'Mag_v', 'Mag_r', 'V', '%_ill', 'Elon', 'Sun_Alt', 'Moon_Alt',\n",
       "       'Moon_Az', 'CA_o', 'PA_o', 'VA_o', 'AA_o', 'Libration_L', 'Libration_B',\n",
       "       'A_m/o', 'B_m/o', 'RV_\"/s', 'Cct_o', 'durn_sec', 'R.A._h', 'R.A._m',\n",
       "       'R.A._s', 'Dec_o', 'Dec_m', 'Dec_s', 'Mdist_Mm', 'SV_m/s', 'NOTES'],\n",
       "      dtype='object')"
      ]
     },
     "execution_count": 12,
     "metadata": {},
     "output_type": "execute_result"
    }
   ],
   "source": [
    "hasil_tabel.columns"
   ]
  },
  {
   "cell_type": "code",
   "execution_count": 13,
   "metadata": {},
   "outputs": [
    {
     "data": {
      "text/plain": [
       "dtype('O')"
      ]
     },
     "execution_count": 13,
     "metadata": {},
     "output_type": "execute_result"
    }
   ],
   "source": [
    "hasil_tabel['day_m'].astype('str').dtypes"
   ]
  },
  {
   "cell_type": "code",
   "execution_count": 14,
   "metadata": {},
   "outputs": [
    {
     "data": {
      "text/plain": [
       "dtype('O')"
      ]
     },
     "execution_count": 14,
     "metadata": {},
     "output_type": "execute_result"
    }
   ],
   "source": [
    "hasil_tabel['Mag_v'].dtypes"
   ]
  },
  {
   "cell_type": "code",
   "execution_count": 15,
   "metadata": {},
   "outputs": [
    {
     "data": {
      "text/plain": [
       "0       8.9 \n",
       "1       9.6 \n",
       "2       7.7 \n",
       "3       7.6 \n",
       "4       8.8 \n",
       "       ...  \n",
       "160    -4.0 \n",
       "161     4.3 \n",
       "162     4.3 \n",
       "163    -4.0 \n",
       "164     8.2 \n",
       "Name: Mag_v, Length: 165, dtype: object"
      ]
     },
     "execution_count": 15,
     "metadata": {},
     "output_type": "execute_result"
    }
   ],
   "source": [
    "hasil_tabel['Mag_v']"
   ]
  },
  {
   "cell_type": "code",
   "execution_count": 16,
   "metadata": {},
   "outputs": [
    {
     "data": {
      "text/html": [
       "<div>\n",
       "<style scoped>\n",
       "    .dataframe tbody tr th:only-of-type {\n",
       "        vertical-align: middle;\n",
       "    }\n",
       "\n",
       "    .dataframe tbody tr th {\n",
       "        vertical-align: top;\n",
       "    }\n",
       "\n",
       "    .dataframe thead th {\n",
       "        text-align: right;\n",
       "    }\n",
       "</style>\n",
       "<table border=\"1\" class=\"dataframe\">\n",
       "  <thead>\n",
       "    <tr style=\"text-align: right;\">\n",
       "      <th></th>\n",
       "      <th>day_y</th>\n",
       "      <th>day_m</th>\n",
       "      <th>day_d</th>\n",
       "      <th>Time_h</th>\n",
       "      <th>Time_m</th>\n",
       "      <th>Time_s</th>\n",
       "      <th>P</th>\n",
       "      <th>Star_No</th>\n",
       "      <th>Sp_D</th>\n",
       "      <th>Mag_v</th>\n",
       "      <th>...</th>\n",
       "      <th>durn_sec</th>\n",
       "      <th>R.A._h</th>\n",
       "      <th>R.A._m</th>\n",
       "      <th>R.A._s</th>\n",
       "      <th>Dec_o</th>\n",
       "      <th>Dec_m</th>\n",
       "      <th>Dec_s</th>\n",
       "      <th>Mdist_Mm</th>\n",
       "      <th>SV_m/s</th>\n",
       "      <th>NOTES</th>\n",
       "    </tr>\n",
       "  </thead>\n",
       "  <tbody>\n",
       "    <tr>\n",
       "      <th>0</th>\n",
       "      <td>22</td>\n",
       "      <td>Mar</td>\n",
       "      <td>5</td>\n",
       "      <td>11</td>\n",
       "      <td>48</td>\n",
       "      <td>46.2</td>\n",
       "      <td>D</td>\n",
       "      <td>109722</td>\n",
       "      <td>SG5</td>\n",
       "      <td>8.9</td>\n",
       "      <td>...</td>\n",
       "      <td></td>\n",
       "      <td>1</td>\n",
       "      <td>11</td>\n",
       "      <td>53.7</td>\n",
       "      <td>4</td>\n",
       "      <td>52</td>\n",
       "      <td>43</td>\n",
       "      <td>385.5</td>\n",
       "      <td>856.1</td>\n",
       "      <td>109722 is triple: AB 9.0 11.2 10.2\" 302.0,...</td>\n",
       "    </tr>\n",
       "    <tr>\n",
       "      <th>1</th>\n",
       "      <td>22</td>\n",
       "      <td>Mar</td>\n",
       "      <td>5</td>\n",
       "      <td>11</td>\n",
       "      <td>57</td>\n",
       "      <td>52.6</td>\n",
       "      <td>d</td>\n",
       "      <td>109724</td>\n",
       "      <td>F8</td>\n",
       "      <td>9.6</td>\n",
       "      <td>...</td>\n",
       "      <td></td>\n",
       "      <td>1</td>\n",
       "      <td>12</td>\n",
       "      <td>8.0</td>\n",
       "      <td>4</td>\n",
       "      <td>54</td>\n",
       "      <td>58</td>\n",
       "      <td>385.8</td>\n",
       "      <td>870.6</td>\n",
       "      <td></td>\n",
       "    </tr>\n",
       "    <tr>\n",
       "      <th>2</th>\n",
       "      <td>22</td>\n",
       "      <td>Mar</td>\n",
       "      <td>5</td>\n",
       "      <td>12</td>\n",
       "      <td>56</td>\n",
       "      <td>58.9</td>\n",
       "      <td>d</td>\n",
       "      <td>109743</td>\n",
       "      <td>F8</td>\n",
       "      <td>7.7</td>\n",
       "      <td>...</td>\n",
       "      <td></td>\n",
       "      <td>1</td>\n",
       "      <td>13</td>\n",
       "      <td>51.6</td>\n",
       "      <td>5</td>\n",
       "      <td>8</td>\n",
       "      <td>31</td>\n",
       "      <td>387.6</td>\n",
       "      <td>970.1</td>\n",
       "      <td></td>\n",
       "    </tr>\n",
       "    <tr>\n",
       "      <th>3</th>\n",
       "      <td>22</td>\n",
       "      <td>Mar</td>\n",
       "      <td>6</td>\n",
       "      <td>12</td>\n",
       "      <td>51</td>\n",
       "      <td>49.8</td>\n",
       "      <td>D</td>\n",
       "      <td>293</td>\n",
       "      <td>G5</td>\n",
       "      <td>7.6</td>\n",
       "      <td>...</td>\n",
       "      <td></td>\n",
       "      <td>2</td>\n",
       "      <td>0</td>\n",
       "      <td>22.7</td>\n",
       "      <td>10</td>\n",
       "      <td>37</td>\n",
       "      <td>48</td>\n",
       "      <td>391.1</td>\n",
       "      <td>853.3</td>\n",
       "      <td></td>\n",
       "    </tr>\n",
       "    <tr>\n",
       "      <th>4</th>\n",
       "      <td>22</td>\n",
       "      <td>Mar</td>\n",
       "      <td>6</td>\n",
       "      <td>13</td>\n",
       "      <td>24</td>\n",
       "      <td>50.3</td>\n",
       "      <td>d</td>\n",
       "      <td>92752</td>\n",
       "      <td>K0</td>\n",
       "      <td>8.8</td>\n",
       "      <td>...</td>\n",
       "      <td></td>\n",
       "      <td>2</td>\n",
       "      <td>1</td>\n",
       "      <td>9.9</td>\n",
       "      <td>10</td>\n",
       "      <td>50</td>\n",
       "      <td>23</td>\n",
       "      <td>392.1</td>\n",
       "      <td>910.5</td>\n",
       "      <td></td>\n",
       "    </tr>\n",
       "    <tr>\n",
       "      <th>...</th>\n",
       "      <td>...</td>\n",
       "      <td>...</td>\n",
       "      <td>...</td>\n",
       "      <td>...</td>\n",
       "      <td>...</td>\n",
       "      <td>...</td>\n",
       "      <td>...</td>\n",
       "      <td>...</td>\n",
       "      <td>...</td>\n",
       "      <td>...</td>\n",
       "      <td>...</td>\n",
       "      <td>...</td>\n",
       "      <td>...</td>\n",
       "      <td>...</td>\n",
       "      <td>...</td>\n",
       "      <td>...</td>\n",
       "      <td>...</td>\n",
       "      <td>...</td>\n",
       "      <td>...</td>\n",
       "      <td>...</td>\n",
       "      <td>...</td>\n",
       "    </tr>\n",
       "    <tr>\n",
       "      <th>160</th>\n",
       "      <td>22</td>\n",
       "      <td>May</td>\n",
       "      <td>27</td>\n",
       "      <td>2</td>\n",
       "      <td>15</td>\n",
       "      <td>9.4</td>\n",
       "      <td>D</td>\n",
       "      <td>Venus</td>\n",
       "      <td></td>\n",
       "      <td>-4.0</td>\n",
       "      <td>...</td>\n",
       "      <td></td>\n",
       "      <td>1</td>\n",
       "      <td>46</td>\n",
       "      <td>43.1</td>\n",
       "      <td>8</td>\n",
       "      <td>52</td>\n",
       "      <td>53</td>\n",
       "      <td>388.8</td>\n",
       "      <td>532.4</td>\n",
       "      <td>Venus contacts: Dark limb  2 14 40; Termina...</td>\n",
       "    </tr>\n",
       "    <tr>\n",
       "      <th>161</th>\n",
       "      <td>22</td>\n",
       "      <td>May</td>\n",
       "      <td>27</td>\n",
       "      <td>2</td>\n",
       "      <td>47</td>\n",
       "      <td>39</td>\n",
       "      <td>Gr</td>\n",
       "      <td>257</td>\n",
       "      <td>cK0</td>\n",
       "      <td>4.3</td>\n",
       "      <td>...</td>\n",
       "      <td>=-10</td>\n",
       "      <td>.56</td>\n",
       "      <td>+0.</td>\n",
       "      <td>98(E.</td>\n",
       "      <td>Long</td>\n",
       "      <td>-10</td>\n",
       "      <td>7.6</td>\n",
       "      <td>2)]\\n</td>\n",
       "      <td></td>\n",
       "      <td></td>\n",
       "    </tr>\n",
       "    <tr>\n",
       "      <th>162</th>\n",
       "      <td>22</td>\n",
       "      <td>May</td>\n",
       "      <td>27</td>\n",
       "      <td>2</td>\n",
       "      <td>55</td>\n",
       "      <td>10</td>\n",
       "      <td>M</td>\n",
       "      <td>257</td>\n",
       "      <td>cK0</td>\n",
       "      <td>4.3</td>\n",
       "      <td>...</td>\n",
       "      <td></td>\n",
       "      <td>1</td>\n",
       "      <td>45</td>\n",
       "      <td>23.6</td>\n",
       "      <td>9</td>\n",
       "      <td>9</td>\n",
       "      <td>28</td>\n",
       "      <td>389.0</td>\n",
       "      <td>608.9</td>\n",
       "      <td>R257 = Torcular = omicron Piscium ;        ...</td>\n",
       "    </tr>\n",
       "    <tr>\n",
       "      <th>163</th>\n",
       "      <td>22</td>\n",
       "      <td>May</td>\n",
       "      <td>27</td>\n",
       "      <td>3</td>\n",
       "      <td>51</td>\n",
       "      <td>0.2</td>\n",
       "      <td>R</td>\n",
       "      <td>Venus</td>\n",
       "      <td></td>\n",
       "      <td>-4.0</td>\n",
       "      <td>...</td>\n",
       "      <td></td>\n",
       "      <td>1</td>\n",
       "      <td>46</td>\n",
       "      <td>43.1</td>\n",
       "      <td>8</td>\n",
       "      <td>52</td>\n",
       "      <td>53</td>\n",
       "      <td>389.5</td>\n",
       "      <td>536.7</td>\n",
       "      <td>Venus contacts: Dark limb  3 50 31; Termina...</td>\n",
       "    </tr>\n",
       "    <tr>\n",
       "      <th>164</th>\n",
       "      <td>22</td>\n",
       "      <td>May</td>\n",
       "      <td>27</td>\n",
       "      <td>22</td>\n",
       "      <td>13</td>\n",
       "      <td>26.1</td>\n",
       "      <td>R</td>\n",
       "      <td>359</td>\n",
       "      <td>cB9</td>\n",
       "      <td>8.2</td>\n",
       "      <td>...</td>\n",
       "      <td></td>\n",
       "      <td>2</td>\n",
       "      <td>26</td>\n",
       "      <td>27.0</td>\n",
       "      <td>12</td>\n",
       "      <td>53</td>\n",
       "      <td>56</td>\n",
       "      <td>395.7</td>\n",
       "      <td>901.3</td>\n",
       "      <td>359 is double: ** 8.6 8.6 0.10\"  35.0, ...</td>\n",
       "    </tr>\n",
       "  </tbody>\n",
       "</table>\n",
       "<p>165 rows × 37 columns</p>\n",
       "</div>"
      ],
      "text/plain": [
       "    day_y day_m day_d Time_h Time_m Time_s    P  Star_No  Sp_D  Mag_v  ...  \\\n",
       "0     22   Mar     5     11     48    46.2   D    109722  SG5    8.9   ...   \n",
       "1     22   Mar     5     11     57    52.6   d    109724   F8    9.6   ...   \n",
       "2     22   Mar     5     12     56    58.9   d    109743   F8    7.7   ...   \n",
       "3     22   Mar     6     12     51    49.8   D       293   G5    7.6   ...   \n",
       "4     22   Mar     6     13     24    50.3   d     92752   K0    8.8   ...   \n",
       "..    ...   ...   ...    ...    ...    ...  ...      ...   ...    ...  ...   \n",
       "160   22   May    27      2     15     9.4   D   Venus          -4.0   ...   \n",
       "161   22   May    27      2     47    39     Gr      257  cK0    4.3   ...   \n",
       "162   22   May    27      2     55    10     M       257  cK0    4.3   ...   \n",
       "163   22   May    27      3     51     0.2   R   Venus          -4.0   ...   \n",
       "164   22   May    27     22     13    26.1   R       359  cB9    8.2   ...   \n",
       "\n",
       "    durn_sec R.A._h R.A._m R.A._s Dec_o Dec_m Dec_s Mdist_Mm  SV_m/s  \\\n",
       "0                 1     11   53.7     4    52    43    385.5   856.1   \n",
       "1                 1     12    8.0     4    54    58    385.8   870.6   \n",
       "2                 1     13   51.6     5     8    31    387.6   970.1   \n",
       "3                 2      0   22.7    10    37    48    391.1   853.3   \n",
       "4                 2      1    9.9    10    50    23    392.1   910.5   \n",
       "..       ...    ...    ...    ...   ...   ...   ...      ...     ...   \n",
       "160               1     46   43.1     8    52    53    388.8   532.4   \n",
       "161     =-10    .56    +0.  98(E.  Long   -10   7.6    2)]\\n           \n",
       "162               1     45   23.6     9     9    28    389.0   608.9   \n",
       "163               1     46   43.1     8    52    53    389.5   536.7   \n",
       "164               2     26   27.0    12    53    56    395.7   901.3   \n",
       "\n",
       "                                                 NOTES  \n",
       "0        109722 is triple: AB 9.0 11.2 10.2\" 302.0,...  \n",
       "1                                                       \n",
       "2                                                       \n",
       "3                                                       \n",
       "4                                                       \n",
       "..                                                 ...  \n",
       "160     Venus contacts: Dark limb  2 14 40; Termina...  \n",
       "161                                                     \n",
       "162     R257 = Torcular = omicron Piscium ;        ...  \n",
       "163     Venus contacts: Dark limb  3 50 31; Termina...  \n",
       "164         359 is double: ** 8.6 8.6 0.10\"  35.0, ...  \n",
       "\n",
       "[165 rows x 37 columns]"
      ]
     },
     "execution_count": 16,
     "metadata": {},
     "output_type": "execute_result"
    }
   ],
   "source": [
    "hasil_tabel[hasil_tabel['Mag_v'] < '8']"
   ]
  },
  {
   "cell_type": "markdown",
   "metadata": {},
   "source": [
    "### Buat dan simpan dataframe ke file excel"
   ]
  },
  {
   "cell_type": "markdown",
   "metadata": {},
   "source": [
    "#### membuat nama file .xlsx output"
   ]
  },
  {
   "cell_type": "code",
   "execution_count": 19,
   "metadata": {},
   "outputs": [],
   "source": [
    "nama_file = 'Tabel output_'+file_input.split('.')[0]+'.xlsx'"
   ]
  },
  {
   "cell_type": "markdown",
   "metadata": {},
   "source": [
    "#### menghapus file yang bernama sama dengan file .xlsx output, jika sudah ada sebelumnya"
   ]
  },
  {
   "cell_type": "markdown",
   "metadata": {},
   "source": [
    "Jika file yang bernama sama dengan file .xlsx output ada, harap ditutup terlebih dahulu agar python bisa menghapusnya"
   ]
  },
  {
   "cell_type": "code",
   "execution_count": 20,
   "metadata": {},
   "outputs": [],
   "source": [
    "if len(glob.glob(nama_file)) != 0:\n",
    "    os.remove(nama_file)"
   ]
  },
  {
   "cell_type": "markdown",
   "metadata": {},
   "source": [
    "#### simpan dataframe ke dalam file .xlsx"
   ]
  },
  {
   "cell_type": "code",
   "execution_count": 27,
   "metadata": {},
   "outputs": [],
   "source": [
    "file_excel = pd.ExcelWriter(nama_file)\n",
    "hasil_tabel.to_excel(file_excel)\n",
    "file_excel.save()"
   ]
  },
  {
   "cell_type": "code",
   "execution_count": null,
   "metadata": {},
   "outputs": [],
   "source": []
  }
 ],
 "metadata": {
  "kernelspec": {
   "display_name": "Python 3 (ipykernel)",
   "language": "python",
   "name": "python3"
  },
  "language_info": {
   "codemirror_mode": {
    "name": "ipython",
    "version": 3
   },
   "file_extension": ".py",
   "mimetype": "text/x-python",
   "name": "python",
   "nbconvert_exporter": "python",
   "pygments_lexer": "ipython3",
   "version": "3.10.5"
  }
 },
 "nbformat": 4,
 "nbformat_minor": 4
}
