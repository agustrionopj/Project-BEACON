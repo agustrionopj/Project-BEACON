{
 "cells": [
  {
   "cell_type": "markdown",
   "metadata": {},
   "source": [
    "## Merapikan tabel file output dari software perencanaan event okultasi Occult v.4"
   ]
  },
  {
   "cell_type": "markdown",
   "metadata": {},
   "source": [
    "### Import Modul yang dibutuhkan"
   ]
  },
  {
   "cell_type": "code",
   "execution_count": 1,
   "metadata": {},
   "outputs": [],
   "source": [
    "import pandas as pd\n",
    "import os\n",
    "import glob"
   ]
  },
  {
   "cell_type": "markdown",
   "metadata": {},
   "source": [
    "### Input user tentang file input dan baris pertama header"
   ]
  },
  {
   "cell_type": "code",
   "execution_count": 2,
   "metadata": {},
   "outputs": [],
   "source": [
    "file_input      = '2022-July.txt'\n",
    "header_line     = 3 "
   ]
  },
  {
   "cell_type": "markdown",
   "metadata": {},
   "source": [
    "###  Buat file output.txt yang berisi tabel referensi"
   ]
  },
  {
   "cell_type": "markdown",
   "metadata": {},
   "source": [
    "Baris yang dibaca dari file output software Occult disimpan seluruhnya kecuali 3 baris paling bawah. Tiga baris tersebut merupakan baris kosong.<'/br'> (NOTE MAS PJ: Tolong periksa ya mas, apakah file output software ini selalu begini perilakunya )"
   ]
  },
  {
   "cell_type": "code",
   "execution_count": 3,
   "metadata": {},
   "outputs": [
    {
     "name": "stdout",
     "output_type": "stream",
     "text": [
      "94\n"
     ]
    }
   ],
   "source": [
    "file = open(file_input,'r')\n",
    "data_in = file.readlines()\n",
    "\n",
    "file_out = open('tabel_output.txt','w')\n",
    "file_out.write(data_in[header_line])\n",
    "file_out.write(data_in[header_line+1])\n",
    "\n",
    "print(len(data_in))\n",
    "\n",
    "i = header_line+2\n",
    "for line in data_in[header_line:]:\n",
    "\tif line[0] != ' ':\n",
    "\t\tfile_out.write(line)\n",
    "\n",
    "file_out.close()\n",
    "\n",
    "data_in = data_in[:-3] "
   ]
  },
  {
   "cell_type": "markdown",
   "metadata": {},
   "source": [
    "###  Membuat header baru gabungan header baris 1 dan baris 2 "
   ]
  },
  {
   "cell_type": "code",
   "execution_count": 4,
   "metadata": {},
   "outputs": [],
   "source": [
    "def merger_title_n_subs(title,sub):\n",
    "    n = len(sub)\n",
    "    for a,b in zip([title]*len(sub),sub):\n",
    "        header_labels_final.append(a+'_'+b)\n",
    "\n",
    "def add_header(n1, n2):\n",
    "    if str(n1) != '0' and str(n2) != '0':\n",
    "        header_labels_final.append(header_labels1[n1]+'_'+header_labels2[n2])\n",
    "    elif str(n2) == '0':\n",
    "        header_labels_final.append(header_labels1[n1])\n",
    "    elif str(n1) == '0':\n",
    "        header_labels_final.append(header_labels2[n2])\n",
    "\n",
    "def cons_add_header(n1, n2 , loops_num):\n",
    "    for i in range(loops_num):\n",
    "        header_labels_final.append(header_labels1[n1]+'_'+header_labels2[n2])\n",
    "        n1,n2 = n1+1, n2+1\n",
    "    \n",
    "        "
   ]
  },
  {
   "cell_type": "code",
   "execution_count": 5,
   "metadata": {},
   "outputs": [
    {
     "name": "stdout",
     "output_type": "stream",
     "text": [
      "['day_y', 'day_m', 'day_d', 'Time_h', 'Time_m', 'Time_s', 'P', 'Star_No', 'Sp_D', 'Mag_v', 'Mag_r', 'V', '%_ill', 'Elon', 'Sun_Alt', 'Moon_Alt', 'Moon_Az', 'CA_o', 'PA_o', 'VA_o', 'AA_o', 'Libration_L', 'Libration_B', 'A_m/o', 'B_m/o', 'RV_\"/s', 'Cct_o', 'durn_sec', 'R.A._h', 'R.A._m', 'R.A._s', 'Dec_o', 'Dec_m', 'Dec_s', 'Mdist_Mm', 'SV_m/s']\n"
     ]
    }
   ],
   "source": [
    "header_labels1 = data_in[header_line].split()\n",
    "header_labels2 = data_in[header_line+1].split()\n",
    "header_labels_final = []\n",
    "\n",
    "merger_title_n_subs(header_labels1[0],header_labels2[:3])\n",
    "merger_title_n_subs(header_labels1[1],header_labels2[3:6] )\n",
    "add_header(2,0)\n",
    "cons_add_header(3,6,4)\n",
    "add_header(0,10)\n",
    "add_header(7,11)\n",
    "add_header(8,0)\n",
    "add_header(9,12)\n",
    "merger_title_n_subs(header_labels1[10],header_labels2[13:15])\n",
    "cons_add_header(11,15,4)\n",
    "merger_title_n_subs(header_labels1[15],header_labels2[19:21])\n",
    "cons_add_header(16,21,5)\n",
    "merger_title_n_subs(header_labels1[21],header_labels2[26:29])\n",
    "del(header_labels1[21])\n",
    "merger_title_n_subs(header_labels1[22],header_labels2[29:32])\n",
    "cons_add_header(23,32,2)\n",
    "\n",
    "print(header_labels_final)"
   ]
  },
  {
   "cell_type": "markdown",
   "metadata": {},
   "source": [
    "### Menambah kolom keterangan untuk beberapa kolom "
   ]
  },
  {
   "cell_type": "code",
   "execution_count": 6,
   "metadata": {},
   "outputs": [
    {
     "name": "stdout",
     "output_type": "stream",
     "text": [
      "['day_y', 'day_m', 'day_d', 'Time_h', 'Time_m', 'Time_s', 'P', 'Star_No', 'Sp_D', 'Mag_v', 'note_Mag_v', 'Mag_r', 'V', '%_ill', 'sign_%_ill', 'Elon', 'Sun_Alt', 'Moon_Alt', 'Moon_Az', 'CA_o', 'sign_CA_o', 'PA_o', 'VA_o', 'AA_o', 'Libration_L', 'Libration_B', 'A_m/o', 'B_m/o', 'RV_\"/s', 'Cct_o', 'durn_sec', 'R.A._h', 'R.A._m', 'R.A._s', 'Dec_o', 'Dec_m', 'Dec_s', 'Mdist_Mm', 'SV_m/s']\n"
     ]
    }
   ],
   "source": [
    "header_labels_final = header_labels_final[:10] + ['note_Mag_v'] + header_labels_final[10:]\n",
    "header_labels_final = header_labels_final[:14] + ['sign_%_ill'] + header_labels_final[14:]\n",
    "header_labels_final = header_labels_final[:20] + ['sign_CA_o'] + header_labels_final[20:]\n",
    "\n",
    "#print(header_labels_final[:25])\n",
    "#header_labels_final = header_labels_final[:25] + ['sign_Libration_L'] + [header_labels_final[25]] + ['sign_Libration_B'] + header_labels_final[26:]\n",
    "\n",
    "print(header_labels_final)\n"
   ]
  },
  {
   "cell_type": "markdown",
   "metadata": {},
   "source": [
    "### Membuat dictionary dan menjadikan label kolom sebagai keys dari dictionary"
   ]
  },
  {
   "cell_type": "code",
   "execution_count": 7,
   "metadata": {},
   "outputs": [],
   "source": [
    "hasil_tabel = {}\n",
    "for label in header_labels_final: hasil_tabel[label] = []"
   ]
  },
  {
   "cell_type": "markdown",
   "metadata": {},
   "source": [
    "### Memisahkan baris data dan baris catatan khusus"
   ]
  },
  {
   "cell_type": "code",
   "execution_count": 8,
   "metadata": {},
   "outputs": [],
   "source": [
    "data_lines = []\n",
    "\n",
    "for line in data_in[header_line:]:\n",
    "\tif line[0] != ' ':\n",
    "\t\tdata_lines.append(line)\n"
   ]
  },
  {
   "cell_type": "markdown",
   "metadata": {},
   "source": [
    "### Mengisi kolom tabel data dengan tabel file input, dengan memisahkan baris note ke kolom baru"
   ]
  },
  {
   "cell_type": "markdown",
   "metadata": {},
   "source": [
    "<p>Setiap kolom pada Tabel file output memiliki 'jatah' lebar dalam satuan banyaknya karakter. <br>\n",
    "Contohnya: kolom 1 ('day_y') memiliki lebar 2 karakter.<br>\n",
    "lebar karakter ini yang ditentukan secara manual dan disimpan dalam bentuk list dalam var 'col_space'.</p>"
   ]
  },
  {
   "cell_type": "markdown",
   "metadata": {},
   "source": [
    "Pada baris data prediksi peristiwa 'GRAZE', kolom 'Az_Moon' dan seterusnya akan kosong dan kolom 'NOTES' akan diisi informasi catatan peristiwa graze hasil output. (Edit version: 31 March 2022) "
   ]
  },
  {
   "cell_type": "code",
   "execution_count": 9,
   "metadata": {},
   "outputs": [
    {
     "name": "stdout",
     "output_type": "stream",
     "text": [
      "{'day_y': ['22 '], 'day_m': ['Jul '], 'day_d': [' 1 '], 'Time_h': ['11 '], 'Time_m': [' 3 '], 'Time_s': ['35.6'], 'P': [' D '], 'Star_No': ['   1274'], 'Sp_D': ['cF0 '], 'Mag_v': [' 5.7'], 'note_Mag_v': [' '], 'Mag_r': [' 5.5'], 'V': ['s '], '%_ill': ['  5'], 'sign_%_ill': ['+'], 'Elon': ['  25'], 'Sun_Alt': ['  -5'], 'Moon_Alt': [' 20'], 'Moon_Az': [' 299'], 'CA_o': ['  82'], 'sign_CA_o': ['N'], 'PA_o': ['  85'], 'VA_o': [' 338'], 'AA_o': ['  71'], 'Libration_L': [' -4.0'], 'Libration_B': [' -6.4'], 'A_m/o': [' +1.2'], 'B_m/o': ['+0.5 '], 'RV_\"/s': ['.368 '], 'Cct_o': ['  31.8'], 'durn_sec': ['    '], 'R.A._h': ['  8'], 'R.A._m': [' 31'], 'R.A._s': [' 30.5'], 'Dec_o': ['  24'], 'Dec_m': ['  4'], 'Dec_s': [' 52'], 'Mdist_Mm': [' 402.7'], 'SV_m/s': [' 845.3']}\n"
     ]
    }
   ],
   "source": [
    "hasil_tabel = {}\n",
    "for label in header_labels_final: hasil_tabel[label] = []\n",
    "\n",
    "col_space = [3,4,3,3,3,4,3,7,4,4,1,4,2,3,1,4,4,3,4,4,1,4,4,4,5,5,5,5,5,6,4,3,3,5,4,3,3,6,6]\n",
    "\n",
    "\n",
    "nama_label = {}\n",
    "for a,b in zip(header_labels_final[:len(col_space)],col_space):\n",
    "    nama_label[a] = b\n",
    "\n",
    "NOTES  = []\n",
    "is_data_line =False\n",
    "index = 0\n",
    "for line in data_in[header_line+2:]:\n",
    "    if line[0] != ' ': \n",
    "        start = 0\n",
    "        n = 0\n",
    "        \n",
    "        for ind in col_space: \n",
    "            hasil_tabel[header_labels_final[n]].append(line[start:start+ind])\n",
    "            start = start + ind\n",
    "            n = n + 1\n",
    "        \n",
    "        if is_data_line == True:\n",
    "            NOTES.append(' ')\n",
    "        elif is_data_line == False:\n",
    "            pass\n",
    "        is_data_line = True\n",
    "        \n",
    "        if hasil_tabel['Moon_Az'][-1] == ' ** ':\n",
    "            for i in range(16,len( header_labels_final)):\n",
    "                hasil_tabel[header_labels_final[i]][-1] = ' ' * col_space[i] \n",
    "            \n",
    "            NOTES.append(line[61:])\n",
    "            \n",
    "            is_data_line = False\n",
    "        \n",
    "    else:\n",
    "        #print(i_note,line[0],'notes!',line)\n",
    "        if is_data_line == True:\n",
    "            NOTES.append(line[:-1])\n",
    "        elif is_data_line == False:\n",
    "            NOTES[-1] = NOTES[-1] +' ; ' + line[:-1]\n",
    "        is_data_line = False\n",
    "    \n",
    "    if index == 0:\n",
    "        print(hasil_tabel)\n",
    "    index=index + 1\n",
    "\n",
    "hasil_tabel['NOTES'] = NOTES\n"
   ]
  },
  {
   "cell_type": "code",
   "execution_count": 10,
   "metadata": {},
   "outputs": [
    {
     "name": "stdout",
     "output_type": "stream",
     "text": [
      "55\n",
      "55\n",
      "\n",
      "      1569 = HD 93273, 6.903, , Type VAR\n",
      "31 \n"
     ]
    }
   ],
   "source": [
    "print(len(NOTES))\n",
    "print(len(hasil_tabel['day_d']))\n",
    "print()\n",
    "print(NOTES[-1])\n",
    "print(hasil_tabel['day_d'][-1])\n"
   ]
  },
  {
   "cell_type": "code",
   "execution_count": 11,
   "metadata": {},
   "outputs": [],
   "source": [
    "# hasil_tabel"
   ]
  },
  {
   "cell_type": "markdown",
   "metadata": {},
   "source": [
    "### Ubah dictionary ke dataframe pandas"
   ]
  },
  {
   "cell_type": "code",
   "execution_count": 20,
   "metadata": {},
   "outputs": [
    {
     "data": {
      "text/html": [
       "<div>\n",
       "<style scoped>\n",
       "    .dataframe tbody tr th:only-of-type {\n",
       "        vertical-align: middle;\n",
       "    }\n",
       "\n",
       "    .dataframe tbody tr th {\n",
       "        vertical-align: top;\n",
       "    }\n",
       "\n",
       "    .dataframe thead th {\n",
       "        text-align: right;\n",
       "    }\n",
       "</style>\n",
       "<table border=\"1\" class=\"dataframe\">\n",
       "  <thead>\n",
       "    <tr style=\"text-align: right;\">\n",
       "      <th></th>\n",
       "      <th>day_y</th>\n",
       "      <th>day_m</th>\n",
       "      <th>day_d</th>\n",
       "      <th>Time_h</th>\n",
       "      <th>Time_m</th>\n",
       "      <th>Time_s</th>\n",
       "      <th>P</th>\n",
       "      <th>Star_No</th>\n",
       "      <th>Sp_D</th>\n",
       "      <th>Mag_v</th>\n",
       "      <th>...</th>\n",
       "      <th>durn_sec</th>\n",
       "      <th>R.A._h</th>\n",
       "      <th>R.A._m</th>\n",
       "      <th>R.A._s</th>\n",
       "      <th>Dec_o</th>\n",
       "      <th>Dec_m</th>\n",
       "      <th>Dec_s</th>\n",
       "      <th>Mdist_Mm</th>\n",
       "      <th>SV_m/s</th>\n",
       "      <th>NOTES</th>\n",
       "    </tr>\n",
       "  </thead>\n",
       "  <tbody>\n",
       "    <tr>\n",
       "      <th>0</th>\n",
       "      <td>22</td>\n",
       "      <td>Jul</td>\n",
       "      <td>1</td>\n",
       "      <td>11</td>\n",
       "      <td>3</td>\n",
       "      <td>35.6</td>\n",
       "      <td>D</td>\n",
       "      <td>1274</td>\n",
       "      <td>cF0</td>\n",
       "      <td>5.7</td>\n",
       "      <td>...</td>\n",
       "      <td></td>\n",
       "      <td>8</td>\n",
       "      <td>31</td>\n",
       "      <td>30.5</td>\n",
       "      <td>24</td>\n",
       "      <td>4</td>\n",
       "      <td>52</td>\n",
       "      <td>402.7</td>\n",
       "      <td>845.3</td>\n",
       "      <td>R1274 = upsilon 1 Cancri ;       1274 = NSV...</td>\n",
       "    </tr>\n",
       "    <tr>\n",
       "      <th>1</th>\n",
       "      <td>22</td>\n",
       "      <td>Jul</td>\n",
       "      <td>1</td>\n",
       "      <td>11</td>\n",
       "      <td>44</td>\n",
       "      <td>57.3</td>\n",
       "      <td>D</td>\n",
       "      <td>80235</td>\n",
       "      <td>G0</td>\n",
       "      <td>8.6</td>\n",
       "      <td>...</td>\n",
       "      <td></td>\n",
       "      <td>8</td>\n",
       "      <td>32</td>\n",
       "      <td>24.2</td>\n",
       "      <td>23</td>\n",
       "      <td>44</td>\n",
       "      <td>47</td>\n",
       "      <td>403.6</td>\n",
       "      <td>918.4</td>\n",
       "      <td></td>\n",
       "    </tr>\n",
       "    <tr>\n",
       "      <th>2</th>\n",
       "      <td>22</td>\n",
       "      <td>Jul</td>\n",
       "      <td>1</td>\n",
       "      <td>11</td>\n",
       "      <td>49</td>\n",
       "      <td>19</td>\n",
       "      <td>M</td>\n",
       "      <td>80234</td>\n",
       "      <td>cA0</td>\n",
       "      <td>8.6</td>\n",
       "      <td>...</td>\n",
       "      <td></td>\n",
       "      <td>8</td>\n",
       "      <td>32</td>\n",
       "      <td>15.6</td>\n",
       "      <td>24</td>\n",
       "      <td>8</td>\n",
       "      <td>12</td>\n",
       "      <td>403.8</td>\n",
       "      <td>927.7</td>\n",
       "      <td></td>\n",
       "    </tr>\n",
       "    <tr>\n",
       "      <th>3</th>\n",
       "      <td>22</td>\n",
       "      <td>Jul</td>\n",
       "      <td>1</td>\n",
       "      <td>11</td>\n",
       "      <td>49</td>\n",
       "      <td>33</td>\n",
       "      <td>Gr</td>\n",
       "      <td>80234</td>\n",
       "      <td>cA0</td>\n",
       "      <td>8.6</td>\n",
       "      <td>...</td>\n",
       "      <td></td>\n",
       "      <td></td>\n",
       "      <td></td>\n",
       "      <td></td>\n",
       "      <td></td>\n",
       "      <td></td>\n",
       "      <td></td>\n",
       "      <td></td>\n",
       "      <td></td>\n",
       "      <td>** GRAZE: CA 21.5N; Dist. 42km in az. 208deg. ...</td>\n",
       "    </tr>\n",
       "    <tr>\n",
       "      <th>4</th>\n",
       "      <td>22</td>\n",
       "      <td>Jul</td>\n",
       "      <td>1</td>\n",
       "      <td>12</td>\n",
       "      <td>11</td>\n",
       "      <td>34</td>\n",
       "      <td>M</td>\n",
       "      <td>1279</td>\n",
       "      <td>cG9</td>\n",
       "      <td>6.4</td>\n",
       "      <td>...</td>\n",
       "      <td></td>\n",
       "      <td>8</td>\n",
       "      <td>33</td>\n",
       "      <td>0.1</td>\n",
       "      <td>24</td>\n",
       "      <td>5</td>\n",
       "      <td>5</td>\n",
       "      <td>404.3</td>\n",
       "      <td>967.9</td>\n",
       "      <td>R1279 = upsilon 2 Cancri</td>\n",
       "    </tr>\n",
       "  </tbody>\n",
       "</table>\n",
       "<p>5 rows × 40 columns</p>\n",
       "</div>"
      ],
      "text/plain": [
       "  day_y day_m day_d Time_h Time_m Time_s    P  Star_No  Sp_D Mag_v  ...  \\\n",
       "0   22   Jul     1     11      3    35.6   D      1274  cF0    5.7  ...   \n",
       "1   22   Jul     1     11     44    57.3   D     80235   G0    8.6  ...   \n",
       "2   22   Jul     1     11     49    19     M     80234  cA0    8.6  ...   \n",
       "3   22   Jul     1     11     49    33     Gr    80234  cA0    8.6  ...   \n",
       "4   22   Jul     1     12     11    34     M      1279  cG9    6.4  ...   \n",
       "\n",
       "  durn_sec R.A._h R.A._m R.A._s Dec_o Dec_m Dec_s Mdist_Mm  SV_m/s  \\\n",
       "0               8     31   30.5    24     4    52    402.7   845.3   \n",
       "1               8     32   24.2    23    44    47    403.6   918.4   \n",
       "2               8     32   15.6    24     8    12    403.8   927.7   \n",
       "3                                                                    \n",
       "4               8     33    0.1    24     5     5    404.3   967.9   \n",
       "\n",
       "                                               NOTES  \n",
       "0     R1274 = upsilon 1 Cancri ;       1274 = NSV...  \n",
       "1                                                     \n",
       "2                                                     \n",
       "3  ** GRAZE: CA 21.5N; Dist. 42km in az. 208deg. ...  \n",
       "4                           R1279 = upsilon 2 Cancri  \n",
       "\n",
       "[5 rows x 40 columns]"
      ]
     },
     "execution_count": 20,
     "metadata": {},
     "output_type": "execute_result"
    }
   ],
   "source": [
    "hasil_df = pd.DataFrame(hasil_tabel)\n",
    "hasil_df.head()"
   ]
  },
  {
   "cell_type": "markdown",
   "metadata": {},
   "source": [
    "### Konversi tipe data untuk kolom berisi data angka"
   ]
  },
  {
   "cell_type": "markdown",
   "metadata": {},
   "source": [
    "Baris kosong akan dikonversi menjadi tipe data float dengan nilai NaN. Kolom Dec_o membutuhkan perlakuan khusus. Di kolom tersebut tanda minus akan terpisah dari angka jika angka bernilai satuan."
   ]
  },
  {
   "cell_type": "code",
   "execution_count": 13,
   "metadata": {},
   "outputs": [],
   "source": [
    "#df = df.astype({\"a\": int, \"b\": complex})]\n",
    "# Problems:\n",
    "#Mag_v   : ada yang pakai *\n",
    "#Mag_r   : ada yang kosong\n",
    "#%_ill   : pakai +/-\n",
    "#Sun_alt : banyak yang kosong\n",
    "#Moon_ALt: ada yg kosong--> graze event\n",
    "\n",
    "\n",
    "result_Dec_o = []\n",
    "for i in range(len(hasil_df['Dec_o'])):\n",
    "    try: result = float(hasil_df['Dec_o'][i])\n",
    "    except: result = float(hasil_df['Dec_o'][i][1]+'1')*float(hasil_df['Dec_o'][i][-1]+'1')\n",
    "        \n",
    "    result_Dec_o.append(str(result))\n",
    "\n",
    "hasil_df['Dec_o'] = result_Dec_o\n",
    "\n",
    "    \n",
    "tipe_data_kolom= [int, str, int, int, int, float, str, str, str, \\\n",
    "                  float, str, float, str, int, str, int, float, float, float, float, str, \\\n",
    "                  float, float, float, float, float] + [float]*13\n",
    "all_type = {}\n",
    "\n",
    "for i in range(len(tipe_data_kolom)):\n",
    "    all_type[header_labels_final[i]] = tipe_data_kolom[i]\n",
    "\n",
    "\n",
    "#print(hasil_tabel.iloc[:,15:17])\n",
    "\n",
    "hasil_df['Mag_r']    = hasil_df['Mag_r'].mask(hasil_df['Mag_r'] == '    ')\n",
    "hasil_df['Sun_Alt']  = hasil_df['Sun_Alt'].mask(hasil_df['Sun_Alt'] == '    ')\n",
    "\n",
    "\n",
    "\n",
    "for i in range(16,len(header_labels_final)):\n",
    "    hasil_df[header_labels_final[i]] =  hasil_df[header_labels_final[i]].mask(hasil_df[header_labels_final[i]] == ' ' * col_space[i])\n",
    "    #hasil_tabel['Moon_Alt'] = hasil_tabel['Moon_Alt'].mask(hasil_tabel['Moon_Alt'] == '   ')\n",
    "\n",
    "#print(all_type) \n",
    "hasil_df.iloc[:,:len(tipe_data_kolom)] = hasil_df.iloc[:,:len(tipe_data_kolom)].astype(all_type)\n",
    "\n"
   ]
  },
  {
   "cell_type": "code",
   "execution_count": 23,
   "metadata": {},
   "outputs": [
    {
     "data": {
      "text/plain": [
       "day_y          object\n",
       "day_m          object\n",
       "day_d          object\n",
       "Time_h         object\n",
       "Time_m         object\n",
       "Time_s         object\n",
       "P              object\n",
       "Star_No        object\n",
       "Sp_D           object\n",
       "Mag_v          object\n",
       "note_Mag_v     object\n",
       "Mag_r          object\n",
       "V              object\n",
       "%_ill          object\n",
       "sign_%_ill     object\n",
       "Elon           object\n",
       "Sun_Alt        object\n",
       "Moon_Alt       object\n",
       "Moon_Az        object\n",
       "CA_o           object\n",
       "sign_CA_o      object\n",
       "PA_o           object\n",
       "VA_o           object\n",
       "AA_o           object\n",
       "Libration_L    object\n",
       "Libration_B    object\n",
       "A_m/o          object\n",
       "B_m/o          object\n",
       "RV_\"/s         object\n",
       "Cct_o          object\n",
       "durn_sec       object\n",
       "R.A._h         object\n",
       "R.A._m         object\n",
       "R.A._s         object\n",
       "Dec_o          object\n",
       "Dec_m          object\n",
       "Dec_s          object\n",
       "Mdist_Mm       object\n",
       "SV_m/s         object\n",
       "NOTES          object\n",
       "dtype: object"
      ]
     },
     "execution_count": 23,
     "metadata": {},
     "output_type": "execute_result"
    }
   ],
   "source": [
    "hasil_df.dtypes"
   ]
  },
  {
   "cell_type": "markdown",
   "metadata": {},
   "source": [
    "### Buat dan simpan dataframe ke file excel"
   ]
  },
  {
   "cell_type": "markdown",
   "metadata": {},
   "source": [
    "#### membuat nama file .xlsx output"
   ]
  },
  {
   "cell_type": "code",
   "execution_count": 14,
   "metadata": {},
   "outputs": [],
   "source": [
    "nama_file = 'Tabel output_'+file_input.split('.')[0]+'.xlsx'"
   ]
  },
  {
   "cell_type": "markdown",
   "metadata": {},
   "source": [
    "#### menghapus file yang bernama sama dengan file .xlsx output, jika sudah ada sebelumnya"
   ]
  },
  {
   "cell_type": "markdown",
   "metadata": {},
   "source": [
    "Jika file yang bernama sama dengan file .xlsx output ada, harap ditutup terlebih dahulu agar python bisa menghapusnya"
   ]
  },
  {
   "cell_type": "code",
   "execution_count": 15,
   "metadata": {},
   "outputs": [],
   "source": [
    "try:\n",
    "    if len(glob.glob(nama_file)) != 0:\n",
    "        os.remove(nama_file)\n",
    "except PermissionError:\n",
    "    print('File output tidak bisa ditulis. \\n Coba tutup file :', nama_file)\n",
    "    \n"
   ]
  },
  {
   "cell_type": "markdown",
   "metadata": {},
   "source": [
    "#### simpan dataframe ke dalam file .xlsx"
   ]
  },
  {
   "cell_type": "code",
   "execution_count": 17,
   "metadata": {
    "scrolled": true
   },
   "outputs": [
    {
     "name": "stdout",
     "output_type": "stream",
     "text": [
      "File output berhasil ditulis ke dalam file : Tabel output_2022-July.xlsx\n"
     ]
    }
   ],
   "source": [
    "try:\n",
    "    file_excel = pd.ExcelWriter(nama_file)\n",
    "    hasil_df.to_excel(file_excel)\n",
    "    file_excel.save()\n",
    "    print('File output berhasil ditulis ke dalam file :', nama_file)\n",
    "except PermissionError:\n",
    "    print('File output tidak bisa ditulis. \\n Coba tutup file :', nama_file)\n"
   ]
  },
  {
   "cell_type": "code",
   "execution_count": null,
   "metadata": {},
   "outputs": [],
   "source": []
  }
 ],
 "metadata": {
  "kernelspec": {
   "display_name": "Python 3 (ipykernel)",
   "language": "python",
   "name": "python3"
  },
  "language_info": {
   "codemirror_mode": {
    "name": "ipython",
    "version": 3
   },
   "file_extension": ".py",
   "mimetype": "text/x-python",
   "name": "python",
   "nbconvert_exporter": "python",
   "pygments_lexer": "ipython3",
   "version": "3.10.5"
  }
 },
 "nbformat": 4,
 "nbformat_minor": 4
}
