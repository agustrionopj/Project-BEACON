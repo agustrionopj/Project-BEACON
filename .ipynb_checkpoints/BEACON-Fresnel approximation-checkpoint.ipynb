{
 "cells": [
  {
   "cell_type": "markdown",
   "id": "fc914f3f",
   "metadata": {},
   "source": [
    "## Aproksimasi fungsi Fresnel dengan deret MacLaurin"
   ]
  },
  {
   "cell_type": "markdown",
   "id": "e8c90f1f",
   "metadata": {},
   "source": [
    "Fungsi Fresnel memiliki komponen `sin` dan `cos` yang bisa dituliskan sebagai berikut:"
   ]
  },
  {
   "cell_type": "markdown",
   "id": "050cf8ef",
   "metadata": {},
   "source": [
    "$$\n",
    "C(x) = \\int_0^x \\cos (t^2) dt\n",
    "$$\n",
    "\n",
    "$$\n",
    "S(x) = \\int_0^x \\sin (t^2) dt\n",
    "$$"
   ]
  },
  {
   "cell_type": "markdown",
   "id": "3f486c0a",
   "metadata": {},
   "source": [
    "#### Aproksimasi C(x)"
   ]
  },
  {
   "cell_type": "markdown",
   "id": "0a29271d",
   "metadata": {},
   "source": [
    "Fungsi $C(x)$ bisa didekati dengan deret MacLaurin:"
   ]
  },
  {
   "cell_type": "markdown",
   "id": "17425fc6",
   "metadata": {},
   "source": [
    "$$\n",
    "\\cos (t^2) = 1 - \\frac{(t^2)^2}{2!} + \\frac{(t^2)^4}{4!} - \\frac{(t^2)^6}{6!} + \\cdots\n",
    "$$"
   ]
  },
  {
   "cell_type": "markdown",
   "id": "88df3f9c",
   "metadata": {},
   "source": [
    "atau dalam bentuk yang lebih umum:"
   ]
  },
  {
   "cell_type": "markdown",
   "id": "3fb0e07d",
   "metadata": {},
   "source": [
    "$$\n",
    "\\cos (t^2) = \\sum_{n=0}^{\\infty} (-1)^n \\frac{t^{4n}}{(2n)!}\n",
    "$$"
   ]
  },
  {
   "cell_type": "markdown",
   "id": "fdf32028",
   "metadata": {},
   "source": [
    "Maka:\n",
    "$$\n",
    "C(x) = \\sum_{n=0}^{\\infty}(-1)^n \\frac{x^{4n+1}}{(2n)!(4n+1)}\n",
    "$$"
   ]
  },
  {
   "cell_type": "markdown",
   "id": "1376613c",
   "metadata": {},
   "source": [
    "#### Aproksimasi S(x)"
   ]
  },
  {
   "cell_type": "markdown",
   "id": "890a968a",
   "metadata": {},
   "source": [
    "Fungsi $S(x)$ bisa didekati dengan deret MacLaurin:"
   ]
  },
  {
   "cell_type": "markdown",
   "id": "d394f332",
   "metadata": {},
   "source": [
    "$$\n",
    "\\sin (t^2) = t^2 - \\frac{(t^2)^3}{3!} + \\frac{(t^2)^5}{5!} - \\frac{(t^2)^7}{7!} + \\cdots\n",
    "$$"
   ]
  },
  {
   "cell_type": "markdown",
   "id": "dc78e8e9",
   "metadata": {},
   "source": [
    "atau dalam bentuk yang lebih umum:"
   ]
  },
  {
   "cell_type": "markdown",
   "id": "e80171a2",
   "metadata": {},
   "source": [
    "$$\n",
    "\\sin (t^2) = \\sum_{n=0}^{\\infty} (-1)^n \\frac{t^{4n+2}}{(2n+1)!}\n",
    "$$"
   ]
  },
  {
   "cell_type": "markdown",
   "id": "d541ba73",
   "metadata": {},
   "source": [
    "Maka:\n",
    "$$\n",
    "S(x) = \\sum_{n=0}^{\\infty}(-1)^n \\frac{x^{4n+3}}{(2n+1)!(4n+3)}\n",
    "$$"
   ]
  },
  {
   "cell_type": "code",
   "execution_count": null,
   "id": "f1f75bec",
   "metadata": {},
   "outputs": [],
   "source": []
  }
 ],
 "metadata": {
  "kernelspec": {
   "display_name": "Python 3",
   "language": "python",
   "name": "python3"
  },
  "language_info": {
   "codemirror_mode": {
    "name": "ipython",
    "version": 3
   },
   "file_extension": ".py",
   "mimetype": "text/x-python",
   "name": "python",
   "nbconvert_exporter": "python",
   "pygments_lexer": "ipython3",
   "version": "3.7.12"
  }
 },
 "nbformat": 4,
 "nbformat_minor": 5
}
