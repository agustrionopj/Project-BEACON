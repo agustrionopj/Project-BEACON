{
 "cells": [
  {
   "cell_type": "code",
   "execution_count": 1,
   "metadata": {},
   "outputs": [],
   "source": [
    "%matplotlib inline\n",
    "%config InlineBackend.figure_format = 'retina'\n",
    "\n",
    "import numpy as np\n",
    "import matplotlib.pyplot as plt\n",
    "import xarray as xr\n",
    "import seaborn as sns; sns.set(font_scale=1.5)\n",
    "import scipy.special as sc\n",
    "import scipy.optimize\n",
    "\n",
    "c = 299792458"
   ]
  },
  {
   "cell_type": "code",
   "execution_count": null,
   "metadata": {
    "jupyter": {
     "source_hidden": true
    },
    "tags": []
   },
   "outputs": [],
   "source": [
    "occultations = [{'name' : '2019-02-04T08:19:11_436.4MHz', 'sel' : slice('2019-02-04T10:05', '2019-02-04T10:08'),\n",
    "                    'fit_sel' : slice('2019-02-04T10:06:30', '2019-02-04T10:07:15'), 'direction' : -1,\n",
    "                    'smooth' : '1s'},\n",
    "               ]"
   ]
  },
  {
   "cell_type": "code",
   "execution_count": null,
   "metadata": {
    "jupyter": {
     "source_hidden": true
    },
    "tags": []
   },
   "outputs": [],
   "source": [
    "def plot_occultation(occ):\n",
    "    power = xr.open_dataset(\"2019-02-04T08_19_11_436.4MHz_power.nc\")\n",
    "    plt.figure(figsize=(14,8),facecolor='w')\n",
    "    sel = occ['sel']\n",
    "    power['power_direct'].sel(time = sel).plot()\n",
    "    plt.title(f'DSLWP-B lunar occultation {sel.start} - {sel.stop}')\n",
    "    plt.xlabel('UTC time')\n",
    "    plt.ylabel('Power (linear scale)')"
   ]
  },
  {
   "cell_type": "code",
   "execution_count": null,
   "metadata": {
    "jupyter": {
     "source_hidden": true
    },
    "tags": []
   },
   "outputs": [],
   "source": [
    "for occultation in occultations:\n",
    "    plot_occultation(occultation)"
   ]
  },
  {
   "cell_type": "code",
   "execution_count": null,
   "metadata": {
    "jupyter": {
     "source_hidden": true
    },
    "tags": []
   },
   "outputs": [],
   "source": []
  },
  {
   "cell_type": "code",
   "execution_count": null,
   "metadata": {
    "jupyter": {
     "source_hidden": true
    },
    "tags": []
   },
   "outputs": [],
   "source": [
    "def fit_occultation(occ):\n",
    "    power = xr.open_dataset(\"2019-02-04T08_19_11_436.4MHz_power.nc\")\n",
    "    data = power['power_direct'].sel(time = occ['fit_sel'])\n",
    "    try:\n",
    "        data_res = data.resample(time = occ['smooth']).mean()\n",
    "        data_original = data\n",
    "        data = data_res\n",
    "    except KeyError:\n",
    "        data_original = data\n",
    "    \n",
    "    t = data.coords['time']\n",
    "    s = (t - t[t.size//2]).values.astype('float') * 1e-9\n",
    "    t_original = data_original.coords['time']\n",
    "    s_original = (t_original - t_original[t_original.size//2]).values.astype('float') * 1e-9\n",
    "    \n",
    "    cut = np.mean(data)\n",
    "    offset = int(np.argmin(np.abs(data-cut)).values)\n",
    "    first_max = offset\n",
    "    d = occ['direction']\n",
    "    while data[first_max] <= data[first_max+d]:\n",
    "        first_max += d\n",
    "    first_min = first_max\n",
    "    while data[first_min] >= data[first_min+d]:\n",
    "        first_min += d\n",
    "    space_hint = s[first_min]-s[first_max]\n",
    "    \n",
    "    p0 = (s[offset], data[first_min:].mean().values, 0.5/space_hint * occ.get('vel_hint_correction', 1))\n",
    "    try:\n",
    "        popt, pcov = scipy.optimize.curve_fit(diffraction, s_original, data_original, p0 = p0)\n",
    "        optimization_succeeded = True\n",
    "        occ['fit_t0'] = t[t.size//2].values + popt[0] * 1e9 * np.timedelta64(1, 'ns')\n",
    "        occ['fit_v'] = popt[2]\n",
    "    except RuntimeError:\n",
    "        optimization_succeeded = False\n",
    "    \n",
    "    plt.figure(figsize = (14,8), facecolor='w')\n",
    "    (1/popt[1]*data_original).plot()\n",
    "    if optimization_succeeded:\n",
    "        plt.plot(t_original, 1/popt[1]*diffraction(s_original, *popt))\n",
    "    \n",
    "    plt.title(f\"Diffraction fit {occ['sel'].start} - {occ['sel'].stop}\")\n",
    "    plt.xlabel('UTC time')\n",
    "    plt.ylabel('Relative power (linear scale)')\n",
    "    plt.legend(['Measurements', 'Model fit'])"
   ]
  },
  {
   "cell_type": "code",
   "execution_count": null,
   "metadata": {
    "jupyter": {
     "source_hidden": true
    },
    "tags": []
   },
   "outputs": [],
   "source": [
    "for occ in occultations:\n",
    "    fit_occultation(occ)"
   ]
  },
  {
   "cell_type": "code",
   "execution_count": null,
   "metadata": {
    "jupyter": {
     "source_hidden": true
    },
    "tags": []
   },
   "outputs": [],
   "source": [
    "def compute_occultation_from_gmat(occ):\n",
    "    gmat = xr.open_dataset(\"2019-02-04T08_19_11_436.4MHz_gmat.nc\")\n",
    "    a = gmat['gmat'].sel(object = 'dslwpb_lunafixed_x')\n",
    "    b = gmat['gmat'].sel(object = 'gs_lunafixed_x')\n",
    "    d = b - a\n",
    "    u = d/np.sqrt((d**2).sum('xyz'))\n",
    "    A = np.abs((a*u).sum('xyz'))\n",
    "    B = np.abs((b*u).sum('xyz'))\n",
    "    H = np.sqrt((a**2).sum('xyz') - A**2)\n",
    "    R = 1737.1 # lunar radius\n",
    "    x = H - R\n",
    "    delta = np.sqrt(A**2 + x**2) + np.sqrt(B**2 + x**2) - A - B\n",
    "    lbd = c / 436.4e6\n",
    "    nu = 2*np.sqrt(1e3*delta/lbd)*np.sign(x)\n",
    "    dnu = nu.differentiate('time', datetime_unit='s')\n",
    "    search_t0 = slice(occ['fit_t0'] + np.timedelta64(-300,'s'), occ['fit_t0'] + np.timedelta64(300,'s'))\n",
    "    occ['gmat_t0'] = gmat.coords['time'].sel(time = search_t0)[np.abs(nu.sel(time = search_t0)).argmin()].values\n",
    "    occ['gmat_v'] = float(dnu.interp(time = occ['fit_t0']).values)"
   ]
  },
  {
   "cell_type": "code",
   "execution_count": null,
   "metadata": {
    "jupyter": {
     "source_hidden": true
    },
    "tags": []
   },
   "outputs": [],
   "source": [
    "for occultation in occultations:\n",
    "    compute_occultation_from_gmat(occultation)"
   ]
  },
  {
   "cell_type": "code",
   "execution_count": null,
   "metadata": {
    "jupyter": {
     "source_hidden": true
    },
    "tags": []
   },
   "outputs": [],
   "source": [
    "[1-o['fit_v']/o['gmat_v'] for o in occultations]"
   ]
  },
  {
   "cell_type": "code",
   "execution_count": null,
   "metadata": {
    "jupyter": {
     "source_hidden": true
    },
    "tags": []
   },
   "outputs": [],
   "source": [
    "[(o['fit_t0']-o['gmat_t0']).astype('float')*1e-9 for o in occultations]"
   ]
  },
  {
   "cell_type": "code",
   "execution_count": null,
   "metadata": {
    "jupyter": {
     "source_hidden": true
    },
    "tags": []
   },
   "outputs": [],
   "source": [
    "plt.figure(figsize = (14,8), facecolor='w')\n",
    "nu = np.linspace(-5,5,10000)\n",
    "plt.plot(nu, diffraction(nu, 0, 1, 1))\n",
    "plt.plot(nu, diffraction(nu, 0, 1, 0.5))\n",
    "plt.legend(['$v = 1$','$v = 0.5$'])\n",
    "plt.xticks(np.arange(-5,6));"
   ]
  },
  {
   "cell_type": "code",
   "execution_count": null,
   "metadata": {
    "jupyter": {
     "source_hidden": true
    },
    "tags": []
   },
   "outputs": [],
   "source": [
    "[print(str(o['fit_v'])) for o in occultations]\n",
    "[print(str(o['fit_t0'])) for o in occultations]"
   ]
  },
  {
   "cell_type": "code",
   "execution_count": null,
   "metadata": {
    "jupyter": {
     "source_hidden": true
    },
    "tags": []
   },
   "outputs": [],
   "source": [
    "test = xr.open_dataset(\"2019-02-04T08_19_11_436.4MHz_power.nc\")"
   ]
  },
  {
   "cell_type": "code",
   "execution_count": null,
   "metadata": {
    "jupyter": {
     "source_hidden": true
    },
    "tags": []
   },
   "outputs": [],
   "source": [
    "test"
   ]
  },
  {
   "cell_type": "markdown",
   "metadata": {},
   "source": [
    "---"
   ]
  },
  {
   "cell_type": "code",
   "execution_count": 2,
   "metadata": {},
   "outputs": [],
   "source": [
    "def diffract(t, A):\n",
    "#     θ = t-t0\n",
    "#     cc, ss = scipy.special.fresnel(v*θ)\n",
    "    cc, ss = scipy.special.fresnel(t)\n",
    "    x = A*0.5*((cc + 0.5)**2 + (ss + 0.5)**2)\n",
    "    return x"
   ]
  },
  {
   "cell_type": "code",
   "execution_count": 3,
   "metadata": {},
   "outputs": [
    {
     "data": {
      "image/png": "[encoded data removed]",
      "text/plain": [
       "<Figure size 1008x576 with 1 Axes>"
      ]
     },
     "metadata": {
      "image/png": {
       "height": 474,
       "width": 828
      }
     },
     "output_type": "display_data"
    }
   ],
   "source": [
    "plt.figure(figsize = (14,8), facecolor='w')\n",
    "nu = np.linspace(-5,5,10000)\n",
    "plt.plot(nu, diffract(nu, 1))\n",
    "plt.plot(nu, diffract(nu, 0.5))\n",
    "plt.legend(['$v = 1$','$v = 0.5$'])\n",
    "plt.xticks(np.arange(-5,6));"
   ]
  },
  {
   "cell_type": "code",
   "execution_count": 4,
   "metadata": {},
   "outputs": [],
   "source": [
    "# artificial data dengan derau\n",
    "x_data = np.linspace(-5,5,100)\n",
    "sigma_noise = 5\n",
    "amplitude = 100\n",
    "y_data = diffract(x_data, amplitude)\n",
    "y_data = np.random.normal(y_data, scale=sigma_noise)"
   ]
  },
  {
   "cell_type": "code",
   "execution_count": 5,
   "metadata": {},
   "outputs": [
    {
     "data": {
      "text/plain": [
       "array([-5.        , -4.8989899 , -4.7979798 , -4.6969697 , -4.5959596 ,\n",
       "       -4.49494949, -4.39393939, -4.29292929, -4.19191919, -4.09090909,\n",
       "       -3.98989899, -3.88888889, -3.78787879, -3.68686869, -3.58585859,\n",
       "       -3.48484848, -3.38383838, -3.28282828, -3.18181818, -3.08080808,\n",
       "       -2.97979798, -2.87878788, -2.77777778, -2.67676768, -2.57575758,\n",
       "       -2.47474747, -2.37373737, -2.27272727, -2.17171717, -2.07070707,\n",
       "       -1.96969697, -1.86868687, -1.76767677, -1.66666667, -1.56565657,\n",
       "       -1.46464646, -1.36363636, -1.26262626, -1.16161616, -1.06060606,\n",
       "       -0.95959596, -0.85858586, -0.75757576, -0.65656566, -0.55555556,\n",
       "       -0.45454545, -0.35353535, -0.25252525, -0.15151515, -0.05050505,\n",
       "        0.05050505,  0.15151515,  0.25252525,  0.35353535,  0.45454545,\n",
       "        0.55555556,  0.65656566,  0.75757576,  0.85858586,  0.95959596,\n",
       "        1.06060606,  1.16161616,  1.26262626,  1.36363636,  1.46464646,\n",
       "        1.56565657,  1.66666667,  1.76767677,  1.86868687,  1.96969697,\n",
       "        2.07070707,  2.17171717,  2.27272727,  2.37373737,  2.47474747,\n",
       "        2.57575758,  2.67676768,  2.77777778,  2.87878788,  2.97979798,\n",
       "        3.08080808,  3.18181818,  3.28282828,  3.38383838,  3.48484848,\n",
       "        3.58585859,  3.68686869,  3.78787879,  3.88888889,  3.98989899,\n",
       "        4.09090909,  4.19191919,  4.29292929,  4.39393939,  4.49494949,\n",
       "        4.5959596 ,  4.6969697 ,  4.7979798 ,  4.8989899 ,  5.        ])"
      ]
     },
     "execution_count": 5,
     "metadata": {},
     "output_type": "execute_result"
    }
   ],
   "source": [
    "x_data"
   ]
  },
  {
   "cell_type": "code",
   "execution_count": 6,
   "metadata": {},
   "outputs": [
    {
     "data": {
      "text/plain": [
       "<matplotlib.collections.PathCollection at 0x1d8b2620ee0>"
      ]
     },
     "execution_count": 6,
     "metadata": {},
     "output_type": "execute_result"
    },
    {
     "data": {
      "image/png": "[encoded data removed]",
      "text/plain": [
       "<Figure size 1008x576 with 1 Axes>"
      ]
     },
     "metadata": {
      "image/png": {
       "height": 474,
       "width": 832
      }
     },
     "output_type": "display_data"
    }
   ],
   "source": [
    "plt.figure(figsize = (14,8), facecolor='w')\n",
    "# nu = np.linspace(-5,5,10000)\n",
    "# plt.plot(nu, diffract(nu, 0, 100, 1))\n",
    "plt.scatter(x_data, y_data, c='r')"
   ]
  },
  {
   "cell_type": "code",
   "execution_count": 7,
   "metadata": {},
   "outputs": [
    {
     "data": {
      "text/plain": [
       "dtype('float64')"
      ]
     },
     "execution_count": 7,
     "metadata": {},
     "output_type": "execute_result"
    }
   ],
   "source": [
    "import pandas as pd\n",
    "\n",
    "data = pd.DataFrame({\"x\":x_data, \"y\":y_data}, dtype=float)\n",
    "data['x'].dtypes"
   ]
  },
  {
   "cell_type": "code",
   "execution_count": 8,
   "metadata": {},
   "outputs": [],
   "source": [
    "import pymc3 as pm\n",
    "import arviz as az"
   ]
  },
  {
   "cell_type": "code",
   "execution_count": null,
   "metadata": {},
   "outputs": [],
   "source": [
    "coords = {\"observation\": data.index.values}\n",
    "# v = np.random.rand(100)\n",
    "\n",
    "with pm.Model(coords=coords) as model_fresnel:\n",
    "    x = pm.Data(\"x\", data[\"x\"], dims=\"observation\")\n",
    "    \n",
    "#     x0 = pm.Normal(\"x0\", mu=0., sigma=10.)\n",
    "#     v = pm.Normal(\"v\", mu=1., sigma=10.)\n",
    "#     v = 1.\n",
    "\n",
    "#     C, S = scipy.special.fresnel(v*(x-x0))\n",
    "#     priors\n",
    "    amp = pm.Uniform('A', 0., 500)\n",
    "    σ = pm.HalfNormal('σ', sigma=5)\n",
    "#     model\n",
    "    mu = diffract(x_data, amp) # model-nya (expected value)\n",
    "#     likelihood\n",
    "    y_pred = pm.Normal('y_pred', mu=mu, sd=σ, observed=data[\"y\"], dims=\"observation\") # likelihood-nya\n",
    "\n",
    "pm.model_to_graphviz(model_fresnel)"
   ]
  },
  {
   "cell_type": "code",
   "execution_count": null,
   "metadata": {},
   "outputs": [],
   "source": [
    "# v"
   ]
  },
  {
   "cell_type": "code",
   "execution_count": null,
   "metadata": {},
   "outputs": [],
   "source": [
    "with model_fresnel:\n",
    "    trace = pm.sample(2000, tune=1000, return_inferencedata=True)"
   ]
  },
  {
   "cell_type": "code",
   "execution_count": null,
   "metadata": {},
   "outputs": [],
   "source": [
    "az.summary(trace)"
   ]
  },
  {
   "cell_type": "code",
   "execution_count": null,
   "metadata": {},
   "outputs": [],
   "source": [
    "trace"
   ]
  },
  {
   "cell_type": "code",
   "execution_count": null,
   "metadata": {},
   "outputs": [],
   "source": [
    "# fig, ax = plt.subplots()\n",
    "az.plot_kde(\n",
    "    trace.posterior.stack(sample=(\"chain\", \"draw\")).A.values,\n",
    "    trace.posterior.stack(sample=(\"chain\", \"draw\")).σ.values,\n",
    "    contourf_kwargs={\"cmap\": \"Blues\"},\n",
    ")\n",
    "plt.plot(amplitude, sigma_noise, \"C2o\", label=\"True Value\")\n",
    "plt.legend(facecolor=\"white\", frameon=True);\n",
    "plt.xlabel(\"A\")\n",
    "plt.ylabel(\"$\\sigma$\")"
   ]
  },
  {
   "cell_type": "code",
   "execution_count": null,
   "metadata": {},
   "outputs": [],
   "source": [
    "az.plot_hdi(\n",
    "    x_data,\n",
    "    trace.posterior.A,\n",
    "    hdi_prob=0.95,\n",
    "    fill_kwargs={\"alpha\": 0.25, \"linewidth\": 0},\n",
    "#     ax=ax[0],\n",
    "#     color=\"C1\",\n",
    ")"
   ]
  },
  {
   "cell_type": "code",
   "execution_count": null,
   "metadata": {},
   "outputs": [],
   "source": [
    "chain_count =  trace.posterior.stack(sample=(\"chain\",\"draw\")).A.values.shape[0]\n",
    "y_pred_g = pm.sample_posterior_predictive(trace, samples=chain_count, model=model_fresnel)\n",
    "# data_spp = az.from_pymc3(trace=trace, posterior_predictive=y_pred_g)"
   ]
  },
  {
   "cell_type": "code",
   "execution_count": null,
   "metadata": {},
   "outputs": [],
   "source": [
    "# joint_plt = az.plot_joint(data_spp, var_names=['A', 'σ'], kind='kde', fill_last=False);\n",
    "# joint_plt[0].set_xlabel(r'$A$', fontsize=18);\n",
    "# joint_plt[1].set_title(r'$A$', fontsize=18);\n",
    "# joint_plt[0].set_ylabel(r'$\\sigma$', fontsize=18);\n",
    "\n",
    "joint_plt = az.plot_pair(data_spp, var_names=['A', 'σ'], kind='kde', fill_last=False);"
   ]
  },
  {
   "cell_type": "code",
   "execution_count": null,
   "metadata": {},
   "outputs": [],
   "source": [
    "pm.plot_posterior(trace, var_names=None, round_to=5, figsize = (12,5))"
   ]
  },
  {
   "cell_type": "code",
   "execution_count": null,
   "metadata": {},
   "outputs": [],
   "source": [
    "az.plot_trace(trace, figsize=(14,6))"
   ]
  },
  {
   "cell_type": "code",
   "execution_count": null,
   "metadata": {},
   "outputs": [],
   "source": [
    "crit_l = np.percentile(y_pred_g['y_pred'], 2.5, axis=0)  # ambil 2.5% \n",
    "crit_u = np.percentile(y_pred_g['y_pred'], 97.5, axis=0)  # ambil 97.5%\n",
    "mean_spp = np.mean(y_pred_g['y_pred'], axis=0) # Median\n",
    "\n",
    "# crit_l = pm.stats()['y_pred']['quantiles'][2.5]"
   ]
  },
  {
   "cell_type": "code",
   "execution_count": null,
   "metadata": {},
   "outputs": [],
   "source": [
    "import seaborn as sns\n",
    "\n",
    "with sns.plotting_context('talk', font_scale=1.2):\n",
    "    _, ax = plt.subplots(figsize=(14,6 ))\n",
    "\n",
    "#     plt.plot(nu, diffract(nu, 0, 100, 1))\n",
    "#     plt.plot(nu, diffract(nu, 0, np.mean(trace['A']), 1), 'k-', alpha=0.3, linewidth=1)\n",
    "    plt.plot(x_data, mean_spp, linestyle='-', linewidth=1, color=\"#5500ff\")\n",
    "    plt.fill_between(x_data, crit_l, crit_u, alpha=0.2, color=\"#00cc66\")\n",
    "    plt.scatter(x_data, y_data, c='r', marker='.')"
   ]
  },
  {
   "cell_type": "code",
   "execution_count": null,
   "metadata": {},
   "outputs": [],
   "source": [
    "with sns.plotting_context('talk', font_scale=1.2):\n",
    "    _, ax = plt.subplots(figsize=(14,6 ))\n",
    "\n",
    "#     plt.plot(nu, diffract(nu, 0, np.mean(trace['A']), 1), 'k-', alpha=0.3, linewidth=1)\n",
    "    plt.plot(x_data, mean_spp, linestyle='-', linewidth=1, color=\"#5500ff\")\n",
    "    plt.fill_between(x_data, crit_l, crit_u, alpha=0.2, color=\"#00cc66\")\n",
    "    plt.scatter(x_data, y_data, c='r', marker='.')\n",
    "    plt.xlim(-1, 2)"
   ]
  },
  {
   "cell_type": "markdown",
   "metadata": {},
   "source": [
    "### Percobaan membuat fungsi Fresnel dengan multi-variabel bebas"
   ]
  },
  {
   "cell_type": "code",
   "execution_count": null,
   "metadata": {},
   "outputs": [],
   "source": [
    "def fresnel_number(x, λ, d):\n",
    "#     Fresnel number tidak berdimensi\n",
    "#     λ = 15000 #satuan Angstrom\n",
    "#     D = 4e18 #satuan Angstrom\n",
    "    return x*1e10*np.sqrt(2/(λ*d)) # x dalam satuan meter"
   ]
  },
  {
   "cell_type": "code",
   "execution_count": null,
   "metadata": {},
   "outputs": [],
   "source": [
    "xaxis = np.linspace(-100,100,10000)\n",
    "\n",
    "plt.figure(figsize = (14,8), facecolor='w')\n",
    "plt.plot(xaxis, fresnel_number(xaxis, 5500, 4e5))"
   ]
  },
  {
   "cell_type": "code",
   "execution_count": null,
   "metadata": {},
   "outputs": [],
   "source": [
    "xaxis = np.linspace(-5,5,10000)\n",
    "\n",
    "def difraksi(x, w, A):\n",
    "#     w = x*1e10*np.sqrt(2/(λ*d)) # x dalam satuan meter\n",
    "#     co, si = scipy.special.fresnel(w / np.sqrt(np.pi/2))\n",
    "    co, si = scipy.special.fresnel(w)\n",
    "    yy = A*0.5*((co + 0.5)**2 + (si + 0.5)**2)\n",
    "    return yy"
   ]
  },
  {
   "cell_type": "code",
   "execution_count": null,
   "metadata": {},
   "outputs": [],
   "source": [
    "plt.figure(figsize = (14,8), facecolor='w')\n",
    "plt.plot(xaxis, difraksi(xaxis, xaxis, 100))"
   ]
  },
  {
   "cell_type": "code",
   "execution_count": null,
   "metadata": {},
   "outputs": [],
   "source": [
    "# simulated data with noise\n",
    "xx = np.linspace(-5, 5, 200)\n",
    "σ2 = 10\n",
    "\n",
    "yy = difraksi(xx, xx, 100)\n",
    "yy = np.random.normal(yy, scale=σ2)"
   ]
  },
  {
   "cell_type": "code",
   "execution_count": null,
   "metadata": {},
   "outputs": [],
   "source": [
    "plt.figure(figsize=(14,6))\n",
    "plt.scatter(xx, yy, marker='.')"
   ]
  },
  {
   "cell_type": "code",
   "execution_count": null,
   "metadata": {},
   "outputs": [],
   "source": [
    "import pandas as pd\n",
    "\n",
    "data = pd.DataFrame({\"x\": xx, \"y\": yy})"
   ]
  },
  {
   "cell_type": "code",
   "execution_count": null,
   "metadata": {},
   "outputs": [],
   "source": [
    "coords = {\"observation\": data.index.values}"
   ]
  },
  {
   "cell_type": "code",
   "execution_count": null,
   "metadata": {},
   "outputs": [],
   "source": [
    "data.head()"
   ]
  },
  {
   "cell_type": "code",
   "execution_count": null,
   "metadata": {},
   "outputs": [],
   "source": [
    "with pm.Model(coords=coords) as model2:\n",
    "    x = pm.Data('x', data['x'], dims='observation')\n",
    "    λ = pm.Normal('λ', 9000, sigma=100)\n",
    "    d = pm.Normal('d', 3e18, sigma=100)\n",
    "#     ww = fresnel_number(xx, λ, d)\n",
    "    w = fresnel_number(x, λ, d)\n",
    "#     w_baru = pm.Normal('w_baru', mu=w, sigma=10, dims=\"observation\")\n",
    "    \n",
    "    A = pm.Normal('A', mu=50, sigma=100)\n",
    "    \n",
    "    ϵ = pm.HalfCauchy('ϵ', beta=1.)\n",
    "\n",
    "#     cc, ss = scipy.special.fresnel(w / np.sqrt(np.pi/2))\n",
    "    \n",
    "    μ = difraksi(x, w, A)\n",
    "#     μ = np.sin(w)\n",
    "    μ_pred = pm.Normal('μ_pred', mu=μ, sd=ϵ, observed=data['y'], dims=\"observation\")\n",
    "    \n",
    "pm.model_to_graphviz(model2)  "
   ]
  },
  {
   "cell_type": "code",
   "execution_count": null,
   "metadata": {},
   "outputs": [],
   "source": [
    "# x2 = np.linspace(-5,5,200)\n",
    "\n",
    "# with pm.Model() as tes_model:\n",
    "#     d = pm.Normal('d', 3, 10)\n",
    "#     err = pm.HalfCauchy('err', beta=1)\n",
    "    \n",
    "#     p = (x2/2) + d\n",
    "    \n",
    "#     ν = np.sin(p)\n",
    "    \n",
    "#     pred = pm.Normal('pred', mu=ν, sigma=err, observed=yy)\n",
    "    \n",
    "# pm.model_to_graphviz(tes_model) "
   ]
  },
  {
   "cell_type": "code",
   "execution_count": null,
   "metadata": {},
   "outputs": [],
   "source": [
    "with model2:\n",
    "    trace = pm.sample(1000, tune=500, return_inferencedata=True)"
   ]
  },
  {
   "cell_type": "code",
   "execution_count": null,
   "metadata": {},
   "outputs": [],
   "source": [
    "az.plot_trace(trace)"
   ]
  },
  {
   "cell_type": "code",
   "execution_count": null,
   "metadata": {},
   "outputs": [],
   "source": [
    "with model2:\n",
    "    trace = pm.sample(2000, tune=1000, return_inferencedata=True)"
   ]
  },
  {
   "cell_type": "code",
   "execution_count": null,
   "metadata": {},
   "outputs": [],
   "source": [
    "az.summary(trace)"
   ]
  },
  {
   "cell_type": "code",
   "execution_count": null,
   "metadata": {},
   "outputs": [],
   "source": [
    "chain_count =  trace.posterior.stack(sample=(\"chain\", \"draw\")).A.values.shape[0]\n",
    "y_pred_g = pm.sample_posterior_predictive(trace, samples=chain_count, model=model2)\n",
    "# data_spp = az.from_pymc3(trace=trace, posterior_predictive=y_pred_g)"
   ]
  },
  {
   "cell_type": "code",
   "execution_count": null,
   "metadata": {},
   "outputs": [],
   "source": [
    "joint_plt = az.plot_pair(data_spp, var_names=['I', 'ϵ'], kind='kde', fill_last=False);"
   ]
  },
  {
   "cell_type": "code",
   "execution_count": null,
   "metadata": {},
   "outputs": [],
   "source": [
    "crit_l = np.percentile(y_pred_g['μ_pred'], 2.5, axis=0)  # 2.5% persentil \n",
    "crit_u = np.percentile(y_pred_g['μ_pred'], 97.5, axis=0)  # 97.5% persentil\n",
    "mean_spp = np.mean(y_pred_g['μ_pred'], axis=0) # Median"
   ]
  },
  {
   "cell_type": "code",
   "execution_count": null,
   "metadata": {},
   "outputs": [],
   "source": [
    "with sns.plotting_context('talk', font_scale=1.2):\n",
    "    _, ax = plt.subplots(figsize=(14,6 ))\n",
    "\n",
    "    plt.plot(xx, mean_spp, linestyle='-', linewidth=1, color=\"#5500ff\")\n",
    "    plt.fill_between(xx, crit_l, crit_u, alpha=0.2, color=\"#00cc66\")\n",
    "    plt.scatter(xx, yy, c='r', marker='.')\n",
    "#     plt.xlabel(r'$t$')\n",
    "    plt.ylabel('Intensity')\n",
    "    plt.legend(['Mean Posterior Prediction', '95% Posterior Prediction', 'Simulated Data'])"
   ]
  },
  {
   "cell_type": "code",
   "execution_count": null,
   "metadata": {},
   "outputs": [],
   "source": [
    "import pandas as pd"
   ]
  },
  {
   "cell_type": "code",
   "execution_count": null,
   "metadata": {},
   "outputs": [],
   "source": [
    "df = pd.read_csv(\"jabbah-20211221-dualaperture.csv\", sep=',')"
   ]
  },
  {
   "cell_type": "code",
   "execution_count": null,
   "metadata": {},
   "outputs": [],
   "source": [
    "df"
   ]
  },
  {
   "cell_type": "code",
   "execution_count": null,
   "metadata": {},
   "outputs": [],
   "source": [
    "sumbu_x = df['FrameNum']\n",
    "sumbu_y = df['signal-Jabbah']"
   ]
  },
  {
   "cell_type": "code",
   "execution_count": null,
   "metadata": {},
   "outputs": [],
   "source": [
    "plt.figure(figsize=(14,8))\n",
    "plt.scatter(sumbu_x, sumbu_y, marker='.', c='k')"
   ]
  },
  {
   "cell_type": "markdown",
   "metadata": {},
   "source": [
    "## Normalisasi intensitas"
   ]
  },
  {
   "cell_type": "code",
   "execution_count": null,
   "metadata": {},
   "outputs": [],
   "source": [
    "# l1, l2 = 4450, 4550"
   ]
  },
  {
   "cell_type": "code",
   "execution_count": null,
   "metadata": {},
   "outputs": [],
   "source": [
    "df_new = df[['FrameNum','signal-Jabbah']]\n",
    "df_new.columns = ['Frame', 'Signal']"
   ]
  },
  {
   "cell_type": "code",
   "execution_count": null,
   "metadata": {},
   "outputs": [],
   "source": [
    "signal_mean = df_new.loc[:150,:]['Signal'].mean()"
   ]
  },
  {
   "cell_type": "code",
   "execution_count": null,
   "metadata": {},
   "outputs": [],
   "source": [
    "y_axis = df_new['Signal'] / signal_mean"
   ]
  },
  {
   "cell_type": "code",
   "execution_count": null,
   "metadata": {},
   "outputs": [],
   "source": [
    "plt.figure(figsize=(14,8))\n",
    "plt.plot(sumbu_x, y_axis, 'r.')\n",
    "plt.xlim(4500, 4700)\n",
    "plt.xlabel('Frame')"
   ]
  },
  {
   "cell_type": "code",
   "execution_count": null,
   "metadata": {},
   "outputs": [],
   "source": [
    "df['timeInfo'] = df['timeInfo'].map((lambda x: x.lstrip('[').rstrip(']'))) # hilangkan karakter [ dan ] dari data"
   ]
  },
  {
   "cell_type": "code",
   "execution_count": null,
   "metadata": {},
   "outputs": [],
   "source": [
    "df['timeInfo'] = pd.to_datetime(df['timeInfo']) # ubah ke format waktu"
   ]
  },
  {
   "cell_type": "code",
   "execution_count": null,
   "metadata": {},
   "outputs": [],
   "source": [
    "df"
   ]
  },
  {
   "cell_type": "code",
   "execution_count": null,
   "metadata": {},
   "outputs": [],
   "source": [
    "data = df[['FrameNum','timeInfo','signal-Jabbah']]\n",
    "data.columns = ['Frame','Time', 'Value']\n",
    "data"
   ]
  },
  {
   "cell_type": "code",
   "execution_count": null,
   "metadata": {},
   "outputs": [],
   "source": [
    "plt.figure(figsize=(14,6))\n",
    "# plt.plot(data['Time'], data['Value'], 'r-')\n",
    "plt.scatter(data['Time'], data['Value'], marker='.', c='r')\n",
    "plt.xlabel('UTC (mm:ss.ssssss)')"
   ]
  },
  {
   "cell_type": "markdown",
   "metadata": {},
   "source": [
    "### Cek keseragaman *time stamp*\n",
    "\n",
    "Data yang diambil memiliki *framerate* sebesar 120 fps, artinya setiap frame diambil dengan waktu paparan 1/120 detik atau sekitar 0,008 detik (8 ms). Jika *time stamp*-nya bisa diandalkan, maka seharusnya selisih waktu setiap frame berada di angka $\\sim$8 ms"
   ]
  },
  {
   "cell_type": "code",
   "execution_count": null,
   "metadata": {},
   "outputs": [],
   "source": [
    "selisih = data['Time'].diff()\n",
    "# selisih\n",
    "selisih_drop = selisih.drop([0])\n",
    "selisih_drop.value_counts()"
   ]
  },
  {
   "cell_type": "code",
   "execution_count": null,
   "metadata": {},
   "outputs": [],
   "source": [
    "selisih_drop.value_counts().plot(kind='barh')"
   ]
  },
  {
   "cell_type": "code",
   "execution_count": null,
   "metadata": {},
   "outputs": [],
   "source": [
    "np.math.factorial(4)"
   ]
  },
  {
   "cell_type": "code",
   "execution_count": null,
   "metadata": {},
   "outputs": [],
   "source": [
    "x = np.linspace(-1000, 1000, 10000)"
   ]
  },
  {
   "cell_type": "code",
   "execution_count": null,
   "metadata": {},
   "outputs": [],
   "source": [
    "def sigma_sum(start, end, expression):\n",
    "    return sum(expression(i) for i in range(start, end+1)) # end+1 memastikan value dari index terakhir ikut dihitung"
   ]
  },
  {
   "cell_type": "code",
   "execution_count": null,
   "metadata": {},
   "outputs": [],
   "source": [
    "def fungsi_cos(x):\n",
    "    coef = (-1)**i\n",
    "    num = x**(2*i+1)\n",
    "    den = (np.math.factorial(2*i)) * (4*i+1)\n",
    "    return coef * (num / den)\n",
    "\n",
    "# sigma_sum(0, 10, fungsi)"
   ]
  },
  {
   "cell_type": "code",
   "execution_count": null,
   "metadata": {},
   "outputs": [],
   "source": []
  },
  {
   "cell_type": "code",
   "execution_count": null,
   "metadata": {},
   "outputs": [],
   "source": [
    "sigma_sum(0, 10, fungsi_cos(x))"
   ]
  },
  {
   "cell_type": "code",
   "execution_count": null,
   "metadata": {},
   "outputs": [],
   "source": [
    "def fresnel_cos(x, n):\n",
    "    cos_approx = 0\n",
    "    for i in range(n):\n",
    "        coef = (-1)**i\n",
    "        num = x**(2*i+1)\n",
    "        den = (np.math.factorial(2*i)) * (4*i+1)\n",
    "        cos_approx += (coef) * ((num) / (den))\n",
    "    return cos_approx"
   ]
  },
  {
   "cell_type": "code",
   "execution_count": null,
   "metadata": {},
   "outputs": [],
   "source": [
    "def fresnel_sin(x, n):\n",
    "    sin_approx = 0\n",
    "    for i in range(n):\n",
    "        coef = (-1)**i\n",
    "        num = x**(2*i+3)\n",
    "        den = (np.math.factorial(2*i+1)) * (4*i+3)\n",
    "        sin_approx += (coef) * ((num) / (den))\n",
    "    return sin_approx"
   ]
  },
  {
   "cell_type": "code",
   "execution_count": null,
   "metadata": {},
   "outputs": [],
   "source": [
    "def fresnel_func(x, n, A):\n",
    "    return A*0.5*((fresnel_cos(x, n) + 0.5)**2 + (fresnel_sin(x, n) + 0.5)**2)"
   ]
  },
  {
   "cell_type": "code",
   "execution_count": null,
   "metadata": {},
   "outputs": [],
   "source": [
    "y = fresnel_func(x, 10, 100)"
   ]
  },
  {
   "cell_type": "code",
   "execution_count": null,
   "metadata": {},
   "outputs": [],
   "source": [
    "plt.plot(x, y)"
   ]
  },
  {
   "cell_type": "code",
   "execution_count": null,
   "metadata": {},
   "outputs": [],
   "source": [
    "xx = np.linspace(-5,5,100)\n",
    "# n = len(x)\n",
    "\n",
    "with pm.Model() as test:\n",
    "    ϵ = pm.HalfCauchy('ϵ', beta=1)\n",
    "    A = pm.Normal('A', mu=10, sigma=100)\n",
    "    \n",
    "    μ = fresnel_func(xx, 100., A)\n",
    "    \n",
    "#     pred = pm.Normal('pred', mu=μ, sigma=ϵ, observed=yy)\n",
    "pm.model_to_graphviz(test)"
   ]
  },
  {
   "cell_type": "code",
   "execution_count": null,
   "metadata": {},
   "outputs": [],
   "source": [
    "xx.dtype"
   ]
  },
  {
   "cell_type": "code",
   "execution_count": null,
   "metadata": {},
   "outputs": [],
   "source": [
    "fresnel_sin(x, len(x))"
   ]
  },
  {
   "cell_type": "code",
   "execution_count": null,
   "metadata": {},
   "outputs": [],
   "source": [
    "fresnel_cos(x, len(x))"
   ]
  },
  {
   "cell_type": "code",
   "execution_count": null,
   "metadata": {},
   "outputs": [],
   "source": [
    "pm.__version__"
   ]
  },
  {
   "cell_type": "code",
   "execution_count": null,
   "metadata": {},
   "outputs": [],
   "source": [
    "import bambi"
   ]
  },
  {
   "cell_type": "code",
   "execution_count": null,
   "metadata": {},
   "outputs": [],
   "source": [
    "xxx = np.linspace(-5, 5, 100)\n",
    "cc, ss = scipy.special.fresnel(xxx)"
   ]
  },
  {
   "cell_type": "code",
   "execution_count": null,
   "metadata": {},
   "outputs": [],
   "source": [
    "lengthscale = 0.2\n",
    "eta = 5.0\n",
    "cov = eta ** 2 * pm.gp.cov.ExpQuad(1, lengthscale)\n",
    "# Add white noise to stabilise\n",
    "cov += pm.gp.cov.WhiteNoise(1e-6)\n",
    "\n",
    "X = np.linspace(0, 2, 200)[:, None]\n",
    "K = cov(X).eval()\n",
    "\n",
    "plt.figure(figsize=(14, 4))\n",
    "\n",
    "plt.plot(X, pm.MvNormal.dist(mu=np.zeros(len(K)), cov=K, shape=K.shape[0]).random(size=10).T, alpha=0.5)\n",
    "plt.title(\"Samples from the GP prior\")\n",
    "plt.ylabel(\"y\")\n",
    "plt.xlabel(\"X\");"
   ]
  },
  {
   "cell_type": "code",
   "execution_count": null,
   "metadata": {},
   "outputs": [],
   "source": [
    "def model_factory(X=np.arange(3), y=None):\n",
    "    with pm.Model() as model:\n",
    "        beta_g = pm.Normal(\"beta_g\", mu=0, sigma=1)\n",
    "        gamma = pm.Gamma(\"gamma\", alpha=10, beta=10)\n",
    "        z = pm.Normal(\"z\", mu=0, sigma=1, shape=X.shape[1])\n",
    "        sigma = pm.Gamma(\"sigma\", alpha=3, beta=3)\n",
    "        beta = beta_g + gamma * z\n",
    "        y = pm.Normal(\n",
    "            \"y\",\n",
    "            mu=tt.dot(X, beta),\n",
    "            sigma=sigma,\n",
    "            shape=X.shape[:-1],\n",
    "            observed=y\n",
    "        )\n",
    "    return model"
   ]
  },
  {
   "cell_type": "code",
   "execution_count": null,
   "metadata": {},
   "outputs": [],
   "source": [
    "# Data generation\n",
    "X = np.random.randn(400, 3)\n",
    "X[:, 0] = 1.\n",
    "with model_factory(X):\n",
    "    prior = pm.sample_prior_predictive(samples=1)\n",
    "y = prior.pop(\"y\")\n",
    "true_parameters = prior\n",
    "print(true_parameters)"
   ]
  },
  {
   "cell_type": "code",
   "execution_count": null,
   "metadata": {},
   "outputs": [],
   "source": [
    "# Inference\n",
    "with model_factory(X, y) as model:\n",
    "    trace = pm.sample(return_inferencedata=True, cores=1)\n",
    "    pm.plot_posterior(trace)"
   ]
  },
  {
   "cell_type": "code",
   "execution_count": null,
   "metadata": {},
   "outputs": [],
   "source": [
    "import corner\n",
    "\n",
    "np.random.seed(11234)\n",
    "\n",
    "x = np.random.randn(2, 2000)\n",
    "data = az.from_dict(\n",
    "    posterior={\n",
    "        \"x\": x,\n",
    "        \"y\": np.random.randn(2, 2000, 2)\n",
    "    },\n",
    "    sample_stats={\n",
    "        \"diverging\": x < -1.2\n",
    "    }\n",
    ")"
   ]
  },
  {
   "cell_type": "code",
   "execution_count": null,
   "metadata": {},
   "outputs": [],
   "source": [
    "figure = corner.corner(data, divergences=True)"
   ]
  },
  {
   "cell_type": "code",
   "execution_count": null,
   "metadata": {},
   "outputs": [],
   "source": [
    "np.arange(3)"
   ]
  },
  {
   "cell_type": "code",
   "execution_count": null,
   "metadata": {},
   "outputs": [],
   "source": [
    "import numpy as np"
   ]
  },
  {
   "cell_type": "code",
   "execution_count": null,
   "metadata": {},
   "outputs": [],
   "source": [
    "a = [1,2,3]\n",
    "b = [5,6,7,8]"
   ]
  },
  {
   "cell_type": "code",
   "execution_count": null,
   "metadata": {},
   "outputs": [],
   "source": [
    "c = np.convolve(a, b, mode='same')"
   ]
  },
  {
   "cell_type": "code",
   "execution_count": null,
   "metadata": {},
   "outputs": [],
   "source": [
    "c"
   ]
  },
  {
   "cell_type": "code",
   "execution_count": null,
   "metadata": {},
   "outputs": [],
   "source": [
    "from scipy.stats import norm"
   ]
  },
  {
   "cell_type": "code",
   "execution_count": null,
   "metadata": {},
   "outputs": [],
   "source": [
    "y1 = norm(1, 1)"
   ]
  },
  {
   "cell_type": "code",
   "execution_count": null,
   "metadata": {},
   "outputs": [],
   "source": [
    "x1 = np.linspace(-5, 5, 200)\n",
    "x1.shape"
   ]
  },
  {
   "cell_type": "code",
   "execution_count": null,
   "metadata": {},
   "outputs": [],
   "source": [
    "import statistics"
   ]
  },
  {
   "cell_type": "code",
   "execution_count": null,
   "metadata": {},
   "outputs": [],
   "source": [
    "mean = statistics.mean(x1)\n",
    "sd = statistics.stdev(x1)"
   ]
  },
  {
   "cell_type": "code",
   "execution_count": null,
   "metadata": {},
   "outputs": [],
   "source": [
    "y1 = norm.pdf(x1, mean, sd)"
   ]
  },
  {
   "cell_type": "code",
   "execution_count": null,
   "metadata": {},
   "outputs": [],
   "source": [
    "y1"
   ]
  },
  {
   "cell_type": "code",
   "execution_count": null,
   "metadata": {},
   "outputs": [],
   "source": [
    "plt.plot(x1, y1)"
   ]
  },
  {
   "cell_type": "code",
   "execution_count": null,
   "metadata": {},
   "outputs": [],
   "source": [
    "x2 = np.linspace(0, 10, 100)"
   ]
  },
  {
   "cell_type": "code",
   "execution_count": null,
   "metadata": {},
   "outputs": [],
   "source": [
    "mean2 = statistics.mean(x2)\n",
    "sd2 = statistics.stdev(x2)"
   ]
  },
  {
   "cell_type": "code",
   "execution_count": null,
   "metadata": {},
   "outputs": [],
   "source": [
    "y2 = norm.pdf(x2, mean2, sd2)"
   ]
  },
  {
   "cell_type": "code",
   "execution_count": null,
   "metadata": {},
   "outputs": [],
   "source": [
    "y2"
   ]
  },
  {
   "cell_type": "code",
   "execution_count": null,
   "metadata": {},
   "outputs": [],
   "source": [
    "plt.plot(x2, y2)"
   ]
  },
  {
   "cell_type": "code",
   "execution_count": null,
   "metadata": {},
   "outputs": [],
   "source": [
    "y3 = np.convolve(y1, y2, mode='same')"
   ]
  },
  {
   "cell_type": "code",
   "execution_count": null,
   "metadata": {},
   "outputs": [],
   "source": [
    "y3.shape"
   ]
  },
  {
   "cell_type": "code",
   "execution_count": null,
   "metadata": {},
   "outputs": [],
   "source": [
    "plt.plot(x1, y1)\n",
    "plt.plot(x2, y2)\n",
    "plt.plot(x1, y3)"
   ]
  },
  {
   "cell_type": "code",
   "execution_count": null,
   "metadata": {},
   "outputs": [],
   "source": []
  }
 ],
 "metadata": {
  "kernelspec": {
   "display_name": "Python 3 (ipykernel)",
   "language": "python",
   "name": "python3"
  },
  "language_info": {
   "codemirror_mode": {
    "name": "ipython",
    "version": 3
   },
   "file_extension": ".py",
   "mimetype": "text/x-python",
   "name": "python",
   "nbconvert_exporter": "python",
   "pygments_lexer": "ipython3",
   "version": "3.9.9"
  }
 },
 "nbformat": 4,
 "nbformat_minor": 4
}
